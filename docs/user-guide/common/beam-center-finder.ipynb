{
 "cells": [
  {
   "cell_type": "markdown",
   "id": "fc46c62a-499c-4b12-a65d-f40946f5f46f",
   "metadata": {},
   "source": [
    "# Beam center finder\n",
    "\n",
    "In SANS experiments, it is essential to find the center of the scattering pattern in order to allow symmetric summation of the scattering intensity around the beam (i.e. computing a one-dimensional $I(Q)$).\n",
    "As detector panels can move, the center of the beam will not always be located at the same place on the detector panel from one experiment to the next.\n",
    "\n",
    "Here we describe two different algorithms that can be used to determine the position of the beam center:\n",
    "\n",
    "1. Using the center of mass of the pixel counts\n",
    "1. Using an iterative refinement on a computed scattering cross-section to find the center of the scattering pattern"
   ]
  },
  {
   "cell_type": "code",
   "execution_count": null,
   "id": "f68a06b0-8982-43b2-b180-942c3dd49b5e",
   "metadata": {
    "tags": []
   },
   "outputs": [],
   "source": [
    "import scipp as sc\n",
    "import plopp as pp\n",
    "import sciline\n",
    "import esssans as sans\n",
    "from esssans import isis\n",
    "from esssans.types import *"
   ]
  },
  {
   "cell_type": "markdown",
   "id": "e84bd5a5-8bed-459b-ad8c-0d04aa6117e0",
   "metadata": {},
   "source": [
    "## Setting up the pipeline\n",
    "\n",
    "We begin by setting some parameters for the pipeline,\n",
    "as well as the name of the data file we wish to use."
   ]
  },
  {
   "cell_type": "code",
   "execution_count": null,
   "id": "327a8b3c-fdde-45cd-9f29-dc33f9bb101d",
   "metadata": {},
   "outputs": [],
   "source": [
    "params = {Filename[SampleRun]: 'SANS2D00063114.nxs'}\n",
    "\n",
    "# Build the pipeline\n",
    "providers = list(\n",
    "    sans.providers + isis.providers + isis.data.providers + isis.sans2d.providers\n",
    ")\n",
    "pipeline = sciline.Pipeline(providers, params=params)"
   ]
  },
  {
   "cell_type": "markdown",
   "id": "1ae3315b-ab76-4fbc-9d6e-594b31d2fae6",
   "metadata": {},
   "source": [
    "### Masking bad pixels\n",
    "\n",
    "We create a quick image of the data (summing along the `tof` dimension) to inspect its contents.\n",
    "We see a diffuse scattering pattern, centered around a dark patch with an arm to the north-east; this is the sample holder.\n",
    "It is clear that the sample and the beam are not in the center of the panel, which is marked by the black cross"
   ]
  },
  {
   "cell_type": "code",
   "execution_count": null,
   "id": "fdc562a4-7cd5-43fa-8921-5f12a062ecfb",
   "metadata": {},
   "outputs": [],
   "source": [
    "raw = pipeline.compute(RawData[SampleRun])['spectrum', :61440]\n",
    "\n",
    "p = isis.plot_flat_detector_xy(raw.hist(), norm='log')\n",
    "p.ax.plot(0, 0, '+', color='k', ms=10)\n",
    "p"
   ]
  },
  {
   "cell_type": "markdown",
   "id": "2981ea30-ebae-4ca4-b3c3-b50ad186bae3",
   "metadata": {},
   "source": [
    "The scattering pattern is circularly symmetric around the center of the beam.\n",
    "Because the beam is not in the center of the panel, different regions of the panel are covering different radial ranges.\n",
    "\n",
    "When searching for the center of the beam, it is important to remove any such bias that would skew the computed center position.\n",
    "We basically would like to add a circular mask around the center, to ensure the same radial range is reached in all directions.\n",
    "\n",
    "Unfortunately, we do not know the center, because that is what we are trying to compute.\n",
    "We can however use the fact that the scattering pattern is symmetric,\n",
    "and that the intensity is higher close to the beam while lower towards the edges of the panel.\n",
    "\n",
    "Adding a mask, based on the pixel neutron counts (integrated along the `tof` dimension),\n",
    "will yield a circular mask around the beam center.\n",
    "Because the sample holder is highly absorbent to neutrons, such a mask will also mask out the sample holder,\n",
    "making it a very simple but effective way of masking."
   ]
  },
  {
   "cell_type": "markdown",
   "id": "0c1b0bb4-229e-4b7a-a2f2-7883afbd710d",
   "metadata": {},
   "source": [
    "<div class=\"alert alert-info\">\n",
    "\n",
    "*Note*\n",
    "\n",
    "In general, for a fully normalized data reduction, masks based on counts are not recommended\n",
    "as they can remove true regions of zero counts and not just artifacts.\n",
    "They should only be used in controlled cases, where the end result does not require a correctly\n",
    "normalized intensity.\n",
    "\n",
    "</div>"
   ]
  },
  {
   "cell_type": "code",
   "execution_count": null,
   "id": "7bf3c65d-09b4-4e17-97d0-d2039bb1b05d",
   "metadata": {},
   "outputs": [],
   "source": [
    "masked = pipeline.compute(MaskedData[SampleRun])['spectrum', :61440].copy()\n",
    "masked.masks['low_counts'] = masked.hist().data < sc.scalar(80.0, unit='counts')\n",
    "\n",
    "p = isis.plot_flat_detector_xy(masked.hist(), norm='log')\n",
    "p.ax.plot(0, 0, '+', color='k', ms=10)\n",
    "p"
   ]
  },
  {
   "cell_type": "markdown",
   "id": "8e8d553c-b79a-4caa-b875-5583f4454097",
   "metadata": {},
   "source": [
    "## Method 1: center-of-mass calculation\n",
    "\n",
    "The first method we will use to compute the center of the beam is to calculate the center-of-mass of the pixels,\n",
    "using the integrated counts along the time-of-flight dimension as the weights of the pixel positions.\n",
    "\n",
    "We can visualize the pipeline that is used to compute the center-of-mass:"
   ]
  },
  {
   "cell_type": "code",
   "execution_count": null,
   "id": "c0e4b26a-4143-4e8d-9061-bb5f25d5553a",
   "metadata": {},
   "outputs": [],
   "source": [
    "pipeline.visualize(BeamCenter, graph_attr={'rankdir': 'LR'})"
   ]
  },
  {
   "cell_type": "code",
   "execution_count": null,
   "id": "36107cf1-da94-43c4-a1c3-68f168a07e37",
   "metadata": {},
   "outputs": [],
   "source": [
    "com = pipeline.compute(BeamCenter)\n",
    "com"
   ]
  },
  {
   "cell_type": "markdown",
   "id": "b4b958ad-c03c-47ea-8464-567b64ccde96",
   "metadata": {},
   "source": [
    "We can now update our previous figure with the new position of the beam center (pink dot),\n",
    "which is clearly in the center of the beam/sample holder."
   ]
  },
  {
   "cell_type": "code",
   "execution_count": null,
   "id": "efe93767-b170-4560-9afd-a6e7a6056344",
   "metadata": {},
   "outputs": [],
   "source": [
    "xc = com.fields.x\n",
    "yc = com.fields.y\n",
    "p.ax.plot(xc.value, yc.value, 'o', color='magenta', mec='lightgray', ms=6)\n",
    "p"
   ]
  },
  {
   "cell_type": "markdown",
   "id": "35ba00f1-705e-4307-b338-893323bf3e20",
   "metadata": {},
   "source": [
    "## Method 2: computing $I(Q)$ inside 4 quadrants"
   ]
  },
  {
   "cell_type": "markdown",
   "id": "0061b064-c348-4ef4-8d4c-03e729f69074",
   "metadata": {},
   "source": [
    "The procedure is the following:\n",
    "\n",
    "1. Divide the panel into 4 quadrants\n",
    "1. Compute $I(Q)$ inside each quadrant and compute the residual difference between all 4 quadrants\n",
    "1. Iteratively move the center position and repeat 1. and 2. until all 4 $I(Q)$ curves lie on top of each other\n",
    "\n",
    "For this, we need to set-up a fully-fledged pipeline that can compute $I(Q)$,\n",
    "which requires some additional parameters (see the [SANS2D reduction workflow](../isis/sans2d.ipynb) for more details)."
   ]
  },
  {
   "cell_type": "markdown",
   "id": "5e8700d8-27b7-44e5-bc7e-616bb4850329",
   "metadata": {},
   "source": [
    "<div class=\"alert alert-info\">\n",
    "\n",
    "*Note*\n",
    "\n",
    "In the full $I(Q)$ reduction, there is a term $D(\\lambda)$ in the normalization called the \"direct beam\" which gives the efficiency of the detectors as a function of wavelength.\n",
    "Because finding the beam center is required to compute the direct beam in the first place,\n",
    "we do not include this term in the computation of $I(Q)$ for finding the beam center.\n",
    "This changes the shape of the $I(Q)$ curve, but since it changes it in the same manner for all $\\phi$ angles,\n",
    "this does not affect the results for finding the beam center.\n",
    "\n",
    "</div>"
   ]
  },
  {
   "cell_type": "code",
   "execution_count": null,
   "id": "f43d6ddd-6106-4b8e-bc81-5f7b98b58078",
   "metadata": {},
   "outputs": [],
   "source": [
    "params[WavelengthBins] = sc.linspace(\n",
    "    'wavelength', start=2.0, stop=16.0, num=141, unit='angstrom'\n",
    ")\n",
    "params[Filename[EmptyBeamRun]] = 'SANS2D00063091.nxs'\n",
    "\n",
    "params[NeXusMonitorName[Incident]] = 'monitor2'\n",
    "params[NeXusMonitorName[Transmission]] = 'monitor4'\n",
    "\n",
    "params[sans.isis.SampleOffset] = sc.vector([0.0, 0.0, 0.053], unit='m')\n",
    "params[sans.isis.MonitorOffset[Transmission]] = sc.vector([0.0, 0.0, -6.719], unit='m')\n",
    "\n",
    "params[CorrectForGravity] = True\n",
    "params[UncertaintyBroadcastMode] = UncertaintyBroadcastMode.upper_bound\n",
    "params[sans.beam_center_finder.BeamCenterFinderQBins] = sc.linspace(\n",
    "    'Q', 0.02, 0.25, 71, unit='1/angstrom'\n",
    ")\n",
    "\n",
    "# We remove the center-of-mass finder and replace it with the one that uses I(Q)\n",
    "providers.remove(sans.beam_center_finder.beam_center_from_center_of_mass)\n",
    "providers.append(sans.beam_center_finder.beam_center_from_iofq)\n",
    "\n",
    "providers.append(sans.isis.data.transmission_from_sample_run)\n",
    "\n",
    "# Build the pipeline\n",
    "pipeline = sciline.Pipeline(providers, params=params)\n",
    "\n",
    "# Override with data that contains the new mask\n",
    "pipeline[MaskedData[SampleRun]] = masked\n",
    "\n",
    "pipeline.visualize(BeamCenter, graph_attr={'rankdir': 'LR'})"
   ]
  },
  {
   "cell_type": "markdown",
   "id": "bfe7784a-dd05-48c5-b74c-a006c82d235c",
   "metadata": {},
   "source": [
    "The division of the panel pixels into 4 quadrants,\n",
    "as well as the iterative procedure to maximize the overlap between the computed intensities,\n",
    "is all performed internally by the `beam_center_from_iofq` provider (see further details below).\n",
    "\n",
    "We can thus compute the beam center in the same way as before:"
   ]
  },
  {
   "cell_type": "code",
   "execution_count": null,
   "id": "c087798a-fc33-4292-924c-eed8e3baf36a",
   "metadata": {},
   "outputs": [],
   "source": [
    "iofq_center = pipeline.compute(BeamCenter)\n",
    "iofq_center"
   ]
  },
  {
   "cell_type": "markdown",
   "id": "76811e12-cf19-41ec-8791-8733c9bb69f2",
   "metadata": {},
   "source": [
    "We, once again, show the location of the computed center (pink dot) on the detector panel:"
   ]
  },
  {
   "cell_type": "code",
   "execution_count": null,
   "id": "f0d1bd32-6b8a-4236-9ef9-8129d70354c2",
   "metadata": {},
   "outputs": [],
   "source": [
    "p = isis.plot_flat_detector_xy(masked.hist(), norm='log')\n",
    "p.ax.plot(0, 0, '+', color='k', ms=10)\n",
    "p.ax.plot(\n",
    "    iofq_center.value[0],\n",
    "    iofq_center.value[1],\n",
    "    'o',\n",
    "    color='magenta',\n",
    "    mec='lightgray',\n",
    "    ms=6,\n",
    ")\n",
    "p"
   ]
  },
  {
   "cell_type": "markdown",
   "id": "2c32a312-0f07-4441-98df-28609573d3c8",
   "metadata": {},
   "source": [
    "Finally, we can compare the values from the two methods, which should be almost identical:"
   ]
  },
  {
   "cell_type": "code",
   "execution_count": null,
   "id": "6db1539b-e482-4758-aa28-a300eded8cb9",
   "metadata": {},
   "outputs": [],
   "source": [
    "print('Center-of-mass:', com.value, '\\nI(Q):          ', iofq_center.value)"
   ]
  },
  {
   "cell_type": "markdown",
   "id": "afbf9a8c-4fc7-4eb3-a477-111baa047b18",
   "metadata": {},
   "source": [
    "## Detailed description of method 2\n",
    "\n",
    "In the remainder of this notebook, we will describe in more detail what is done internally for method 2 in the `essans` module.\n",
    "\n",
    "The user does not need to understand all the details of the implementation, the information is kept here for completeness.\n",
    "\n",
    "### Step 1: divide the panel into 4 quadrants\n",
    "\n",
    "We divide the panel into 4 quadrants.\n",
    "Panels a very commonly rectangular,\n",
    "and the best way to ensure that each quadrant has approximately the same number of pixels is to make a vertical and a horizontal cut:"
   ]
  },
  {
   "cell_type": "code",
   "execution_count": null,
   "id": "bfdb5422-4c71-4e65-a4be-e7fd6042c203",
   "metadata": {
    "tags": []
   },
   "outputs": [],
   "source": [
    "p = isis.plot_flat_detector_xy(masked.hist(), norm='log')\n",
    "p.ax.axvline(0, color='cyan')\n",
    "p.ax.axhline(0, color='cyan')\n",
    "p.ax.plot(0, 0, '+', color='k', ms=10)\n",
    "dx = 0.25\n",
    "style = dict(ha='center', va='center', color='w')\n",
    "p.ax.text(dx, dx, 'North-East', **style)\n",
    "p.ax.text(-dx, dx, 'North-West', **style)\n",
    "p.ax.text(dx, -dx, 'South-East', **style)\n",
    "p.ax.text(-dx, -dx, 'South-West', **style)\n",
    "p"
   ]
  },
  {
   "cell_type": "markdown",
   "id": "dccb7b71-8236-4509-b8b1-c20bedfac317",
   "metadata": {},
   "source": [
    "### Step 2: compute $I(Q)$ inside each quadrant\n",
    "\n",
    "We define several quantities which are required to compute $I(Q)$:"
   ]
  },
  {
   "cell_type": "code",
   "execution_count": null,
   "id": "56960e8c-511b-45c6-b068-ff6a3905e2e4",
   "metadata": {},
   "outputs": [],
   "source": [
    "kwargs = dict(\n",
    "    data=masked,\n",
    "    norm=pipeline.compute(NormWavelengthTerm[SampleRun]),\n",
    "    graph=pipeline.compute(sans.conversions.ElasticCoordTransformGraph),\n",
    "    q_bins=params[sans.beam_center_finder.BeamCenterFinderQBins],\n",
    "    wavelength_bins=params[WavelengthBins],\n",
    "    transform=pipeline.compute(LabFrameTransform[SampleRun]),\n",
    "    pixel_shape=pipeline.compute(DetectorPixelShape[SampleRun]),\n",
    ")"
   ]
  },
  {
   "cell_type": "markdown",
   "id": "6c335c02-7f17-48fe-9369-f4ed7daacdf3",
   "metadata": {},
   "source": [
    "We now use a function internal to the `esssans` module compute $I(Q)$ inside each quadrant:"
   ]
  },
  {
   "cell_type": "code",
   "execution_count": null,
   "id": "224eb405-f167-4337-91a3-860d56ae8a0c",
   "metadata": {},
   "outputs": [],
   "source": [
    "from esssans.beam_center_finder import _iofq_in_quadrants\n",
    "\n",
    "results = _iofq_in_quadrants(\n",
    "    xy=[0, 0],\n",
    "    **kwargs,\n",
    ")"
   ]
  },
  {
   "cell_type": "markdown",
   "id": "31e5b9f9-b0a3-4010-83e8-690fda6e3f76",
   "metadata": {},
   "source": [
    "We can plot on the same figure all 4 $I(Q)$ curves for each quadrant."
   ]
  },
  {
   "cell_type": "code",
   "execution_count": null,
   "id": "007524f6-96b6-4bf7-9130-8d42db118b95",
   "metadata": {
    "tags": []
   },
   "outputs": [],
   "source": [
    "pp.plot(results, norm='log')"
   ]
  },
  {
   "cell_type": "markdown",
   "id": "db6a4f3e-3edf-4eae-8662-b971d9e6e19a",
   "metadata": {},
   "source": [
    "As we can see, the overlap between the curves from the 4 quadrants is mediocre.\n",
    "We will now use an iterative procedure to improve our initial guess, until a good overlap between the curves is found.\n",
    "\n",
    "### Step 3: iteratively maximize the overlap between the I(Q) curves\n",
    "\n",
    "We first define a cost function, which gives us an idea of how good the overlap is:\n",
    "\n",
    "$$\n",
    "\\text{cost} = \\frac{\\sum_{Q}\\sum_{i=1}^{i=4} \\overline{I}(Q)\\left(I(Q)_{i} - \\overline{I}(Q)\\right)^2}{\\sum_{Q}\\overline{I}(Q)} ~,\n",
    "$$\n",
    "\n",
    "where $\\overline{I}(Q)$ is the mean intensity of the 4 quadrants (represented by $i$) as a function of $Q$.\n",
    "This is basically a weighted mean of the square of the differences between the $I(Q)$ curves in the 4 quadrants with respect to $\\overline{I}(Q)$,\n",
    "and where the weights are $\\overline{I}(Q)$.\n",
    "\n",
    "Next, we iteratively minimize the computed cost\n",
    "(this is using Scipy's `optimize.minimize` utility internally;\n",
    "see [here](https://docs.scipy.org/doc/scipy/reference/generated/scipy.optimize.minimize.html) for more details)."
   ]
  },
  {
   "cell_type": "code",
   "execution_count": null,
   "id": "27898815-7742-4990-853f-15d665f0337e",
   "metadata": {
    "tags": []
   },
   "outputs": [],
   "source": [
    "from scipy.optimize import minimize\n",
    "\n",
    "# The minimizer works best if given bounds, which are the bounds of our detector panel\n",
    "x = masked.coords['position'].fields.x\n",
    "y = masked.coords['position'].fields.y\n",
    "bounds = [(x.min().value, x.max().value), (y.min().value, y.max().value)]\n",
    "\n",
    "res = minimize(\n",
    "    sans.beam_center_finder._cost,\n",
    "    x0=[0, 0],\n",
    "    args=tuple(kwargs.values()),\n",
    "    bounds=bounds,\n",
    "    method='Powell',\n",
    "    tol=0.01,\n",
    ")\n",
    "\n",
    "res"
   ]
  },
  {
   "cell_type": "markdown",
   "id": "b8f125a8-38ec-4792-8e82-4d2b2e4860e4",
   "metadata": {},
   "source": [
    "Once the iterations completed, the returned object contains the best estimate for the beam center:"
   ]
  },
  {
   "cell_type": "code",
   "execution_count": null,
   "id": "81965cb9-bb34-4662-9210-e2904952759c",
   "metadata": {
    "tags": []
   },
   "outputs": [],
   "source": [
    "res.x"
   ]
  },
  {
   "cell_type": "markdown",
   "id": "9d7e7739-935d-46fa-88eb-5367d70f8278",
   "metadata": {},
   "source": [
    "We can now feed this value again into our `iofq_in_quadrants` function, to inspect the $Q$ intensity in all 4 quadrants:"
   ]
  },
  {
   "cell_type": "code",
   "execution_count": null,
   "id": "bba5ad6e-294d-4549-8a2b-74e693f1f923",
   "metadata": {
    "tags": []
   },
   "outputs": [],
   "source": [
    "results = _iofq_in_quadrants(\n",
    "    xy=[res.x[0], res.x[1]],\n",
    "    **kwargs,\n",
    ")\n",
    "\n",
    "pp.plot(results, norm='log')"
   ]
  },
  {
   "cell_type": "markdown",
   "id": "389c0133-839d-46da-934c-bfcc5e2e5aab",
   "metadata": {},
   "source": [
    "The overlap between the curves is excellent, allowing us to safely perform an azimuthal summation of the counts around the beam center."
   ]
  },
  {
   "cell_type": "markdown",
   "id": "3bcc446a-1f04-4161-8f8d-ca782e48ecf7",
   "metadata": {},
   "source": [
    "<div class=\"alert alert-info\">\n",
    "\n",
    "*Note*\n",
    "\n",
    "The result obtained just above is slightly different from the one obtained earlier [using the pipeline](#Method-2:-computing-I(Q)-inside-4-quadrants).\n",
    "\n",
    "This is because in our example, we used `x=0, y=0` as our initial guess,\n",
    "while the pipeline uses an additional optimization where it first computes a better initial guess using method 1 (center-of-mass).\n",
    "This allows it to converge faster, with fewer iterations, and produce a slightly more accurate result.\n",
    "\n",
    "</div>"
   ]
  }
 ],
 "metadata": {
  "kernelspec": {
   "display_name": "Python 3 (ipykernel)",
   "language": "python",
   "name": "python3"
  },
  "language_info": {
   "codemirror_mode": {
    "name": "ipython",
    "version": 3
   },
   "file_extension": ".py",
   "mimetype": "text/x-python",
   "name": "python",
   "nbconvert_exporter": "python",
   "pygments_lexer": "ipython3",
   "version": "3.10.13"
  }
 },
 "nbformat": 4,
 "nbformat_minor": 5
}
