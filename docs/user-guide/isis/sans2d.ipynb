{
 "cells": [
  {
   "cell_type": "markdown",
   "id": "9a935df3-c816-4829-99c3-2afa979b7611",
   "metadata": {},
   "source": [
    "# Sans2d Data Reduction\n",
    "\n",
    "## Introduction\n",
    "\n",
    "This notebook gives an overview of how to use the `esssans` package with Sciline, on the example of the data reduction of a Sans2d experiment.\n",
    "We begin with relevant imports:"
   ]
  },
  {
   "cell_type": "code",
   "execution_count": null,
   "id": "8c7f7cf7-0582-4953-a772-a0f87d1cf0e2",
   "metadata": {
    "tags": []
   },
   "outputs": [],
   "source": [
    "import scipp as sc\n",
    "import plopp as pp\n",
    "from ess import sans\n",
    "from ess import isissans as isis\n",
    "import ess.isissans.data  # noqa: F401\n",
    "from ess.sans.types import *"
   ]
  },
  {
   "cell_type": "markdown",
   "id": "3da2d397-6206-4ed1-a98f-11b3aaf7e5b0",
   "metadata": {},
   "source": [
    "## Create and configure the workflow\n",
    "\n",
    "We begin by creating the Sans2d workflow object (this is a [sciline.Pipeline](https://scipp.github.io/sciline/generated/classes/sciline.Pipeline.html) which can be consulted for advanced usage).\n",
    "The Sans2d workflow uses Mantid to load files.\n",
    "This tutorial comes with files that do not require Mantid, so we use a slightly modified workflow that does not require Mantid.\n",
    "The workflow is otherwise identical to the full Mantid-based workflow:"
   ]
  },
  {
   "cell_type": "code",
   "execution_count": null,
   "id": "d3f5e1ee-bd80-4301-9ff9-15c8ada3cf57",
   "metadata": {},
   "outputs": [],
   "source": [
    "workflow = isis.sans2d.Sans2dTutorialWorkflow()\n",
    "# For real data use:\n",
    "# workflow = isis.sans2d.Sans2dWorkflow()"
   ]
  },
  {
   "cell_type": "markdown",
   "id": "6e08fb56",
   "metadata": {},
   "source": [
    "We can insert steps for configuring the workflow.\n",
    "In this case, we would like to use the transmission monitor from the regular background and sample runs since there was no separate transmission run.\n",
    "We also want to compute the beam center using a simple center-of-mass estimation:"
   ]
  },
  {
   "cell_type": "code",
   "execution_count": null,
   "id": "bb55a3d4",
   "metadata": {},
   "outputs": [],
   "source": [
    "workflow.insert(isis.io.transmission_from_background_run)\n",
    "workflow.insert(isis.io.transmission_from_sample_run)"
   ]
  },
  {
   "cell_type": "markdown",
   "id": "d0dfa507",
   "metadata": {},
   "source": [
    "The workflow can be visualized as a graph.\n",
    "For readability we show only sub-workflow for computing `IofQ[Sample]`.\n",
    "The workflow can actually compute the full `BackgroundSubtractedIofQ`, which applies and equivalent workflow to the background run, before a subtraction step:"
   ]
  },
  {
   "cell_type": "code",
   "execution_count": null,
   "id": "89212ffd",
   "metadata": {},
   "outputs": [],
   "source": [
    "# left-right layout works better for this graph\n",
    "workflow.visualize(IofQ[SampleRun], graph_attr={\"rankdir\": \"LR\"})"
   ]
  },
  {
   "cell_type": "markdown",
   "id": "82319158",
   "metadata": {},
   "source": [
    "Note the red boxes which indicate missing input parameters.\n",
    "We can set these missing parameters, as well as parameters where we do not want to use the defaults:"
   ]
  },
  {
   "cell_type": "code",
   "execution_count": null,
   "id": "4a2df47b",
   "metadata": {},
   "outputs": [],
   "source": [
    "workflow[OutFilename] = 'reduced.nxs'\n",
    "\n",
    "workflow[NeXusMonitorName[Incident]] = 'monitor2'\n",
    "workflow[NeXusMonitorName[Transmission]] = 'monitor4'\n",
    "\n",
    "workflow[isis.SampleOffset] = sc.vector([0.0, 0.0, 0.053], unit='m')\n",
    "workflow[isis.MonitorOffset[Transmission]] = sc.vector([0.0, 0.0, -6.719], unit='m')\n",
    "\n",
    "workflow[WavelengthBins] = sc.linspace(\n",
    "    'wavelength', start=2.0, stop=16.0, num=141, unit='angstrom'\n",
    ")\n",
    "\n",
    "workflow[isis.sans2d.LowCountThreshold] = sc.scalar(100, unit='counts')\n",
    "\n",
    "mask_interval = sc.array(dims=['wavelength'], values=[2.21, 2.59], unit='angstrom')\n",
    "workflow[WavelengthMask] = sc.DataArray(\n",
    "    sc.array(dims=['wavelength'], values=[True]),\n",
    "    coords={'wavelength': mask_interval},\n",
    ")\n",
    "\n",
    "workflow[QBins] = sc.linspace(dim='Q', start=0.01, stop=0.6, num=141, unit='1/angstrom')\n",
    "workflow[NonBackgroundWavelengthRange] = sc.array(\n",
    "    dims=['wavelength'], values=[0.7, 17.1], unit='angstrom'\n",
    ")\n",
    "workflow[CorrectForGravity] = True\n",
    "workflow[UncertaintyBroadcastMode] = UncertaintyBroadcastMode.upper_bound\n",
    "workflow[ReturnEvents] = True"
   ]
  },
  {
   "cell_type": "markdown",
   "id": "67b18b0d",
   "metadata": {},
   "source": [
    "## Configuring data to load\n",
    "\n",
    "We have not configured which files we want to load.\n",
    "In this tutorial, we use helpers to fetch the tutorial data which return the filenames of the cached files.\n",
    "In a real use case, you would set these parameters manually:"
   ]
  },
  {
   "cell_type": "code",
   "execution_count": null,
   "id": "ff1658c5",
   "metadata": {},
   "outputs": [],
   "source": [
    "workflow[DirectBeamFilename] = isis.data.sans2d_tutorial_direct_beam()\n",
    "workflow[Filename[SampleRun]] = isis.data.sans2d_tutorial_sample_run()\n",
    "workflow[Filename[BackgroundRun]] = isis.data.sans2d_tutorial_background_run()\n",
    "workflow[Filename[EmptyBeamRun]] = isis.data.sans2d_tutorial_empty_beam_run()"
   ]
  },
  {
   "cell_type": "markdown",
   "id": "981f1f28",
   "metadata": {},
   "source": [
    "The beam center is not set yet.\n",
    "Unless we have a previously computed value, we can do so now:"
   ]
  },
  {
   "cell_type": "code",
   "execution_count": null,
   "id": "064f87a4",
   "metadata": {},
   "outputs": [],
   "source": [
    "center = sans.beam_center_from_center_of_mass(workflow)\n",
    "center"
   ]
  },
  {
   "cell_type": "markdown",
   "id": "7d7ce61a",
   "metadata": {},
   "source": [
    "Remember to update the workflow with the new center:"
   ]
  },
  {
   "cell_type": "code",
   "execution_count": null,
   "id": "0a4c43f9",
   "metadata": {},
   "outputs": [],
   "source": [
    "workflow[BeamCenter] = center"
   ]
  },
  {
   "cell_type": "markdown",
   "id": "c19eeaf0",
   "metadata": {},
   "source": [
    "## Use the workflow\n",
    "\n",
    "### Compute final result\n",
    "\n",
    "We can now compute the background-subtracted $I(Q)$:"
   ]
  },
  {
   "cell_type": "code",
   "execution_count": null,
   "id": "c8cf57ce",
   "metadata": {},
   "outputs": [],
   "source": [
    "result = workflow.compute(BackgroundSubtractedIofQ)\n",
    "result.hist().plot(scale={'Q': 'log'}, norm='log')"
   ]
  },
  {
   "cell_type": "markdown",
   "id": "28532aa7",
   "metadata": {},
   "source": [
    "As the result was computed in event-mode, we can also use a different $Q$-binning, without re-reducing the data:"
   ]
  },
  {
   "cell_type": "code",
   "execution_count": null,
   "id": "e0748a1a",
   "metadata": {},
   "outputs": [],
   "source": [
    "result.hist(Q=60).plot(scale={'Q': 'log'}, norm='log')"
   ]
  },
  {
   "cell_type": "markdown",
   "id": "2359dd3d",
   "metadata": {},
   "source": [
    "In the above we used an upper bound for the uncertainties of the normalization factors.\n",
    "We can also compute the result with dropped normalization-factor uncertainties.\n",
    "This is incorrect, but is useful for understanding whether the normalization factors significantly contribute to the uncertainty of the result:"
   ]
  },
  {
   "cell_type": "code",
   "execution_count": null,
   "id": "6a8e0b6b",
   "metadata": {},
   "outputs": [],
   "source": [
    "workflow[UncertaintyBroadcastMode] = UncertaintyBroadcastMode.drop\n",
    "result_drop = workflow.compute(BackgroundSubtractedIofQ)\n",
    "# Reset the UnsertaintyBroadcastMode to the old value\n",
    "workflow[UncertaintyBroadcastMode] = UncertaintyBroadcastMode.upper_bound\n",
    "sc.DataGroup(upper_bound=result, dropped=result_drop).hist().plot(norm='log')"
   ]
  },
  {
   "cell_type": "markdown",
   "id": "53ce1e48-b8a9-475a-b0ec-9ad204541543",
   "metadata": {},
   "source": [
    "### Save reduced data to file\n",
    "\n",
    "`ess.sans` provides a function for saving the reduced data as an [NXcanSAS](https://manual.nexusformat.org/classes/applications/NXcanSAS.html) file.\n",
    "It could be used directly with the `result` computed above, but we would have to provide the required metadata ourselves.\n",
    "Instead, we use Sciline to get all required information directly from the pipeline: (See also the [File output](https://scipp.github.io/sciline/recipes/recipes.html#File-output) docs.)"
   ]
  },
  {
   "cell_type": "code",
   "execution_count": null,
   "id": "b83c7580-fba7-43d8-b9d0-1aeeebbe0301",
   "metadata": {},
   "outputs": [],
   "source": [
    "from ess.sans.io import save_background_subtracted_iofq\n",
    "\n",
    "workflow.bind_and_call(save_background_subtracted_iofq)"
   ]
  },
  {
   "cell_type": "markdown",
   "id": "f39206c6",
   "metadata": {},
   "source": [
    "### Compute intermediate results\n",
    "\n",
    "For inspection and debugging purposes we can also compute intermediate results.\n",
    "To avoid repeated computation (including costly loading of files) we can request multiple results at once, including the final result, if desired.\n",
    "For example:"
   ]
  },
  {
   "cell_type": "code",
   "execution_count": null,
   "id": "bb922379",
   "metadata": {},
   "outputs": [],
   "source": [
    "monitors = (\n",
    "    WavelengthMonitor[SampleRun, Incident],\n",
    "    WavelengthMonitor[SampleRun, Transmission],\n",
    "    WavelengthMonitor[BackgroundRun, Incident],\n",
    "    WavelengthMonitor[BackgroundRun, Transmission],\n",
    ")\n",
    "parts = (\n",
    "    WavelengthScaledQ[SampleRun, Numerator],\n",
    "    WavelengthScaledQ[SampleRun, Denominator],\n",
    ")\n",
    "iofqs = (IofQ[SampleRun], IofQ[BackgroundRun], BackgroundSubtractedIofQ)\n",
    "keys = (*monitors, MaskedData[SampleRun], *parts, *iofqs)\n",
    "\n",
    "results = workflow.compute(keys)\n",
    "\n",
    "display(sc.plot({str(key): results[key] for key in monitors}, norm='log'))\n",
    "\n",
    "display(\n",
    "    isis.plot_flat_detector_xy(\n",
    "        results[MaskedData[SampleRun]]['spectrum', :61440].hist(), norm='log'\n",
    "    )\n",
    ")\n",
    "\n",
    "wavelength = workflow.compute(WavelengthBins)\n",
    "display(\n",
    "    results[WavelengthScaledQ[SampleRun, Numerator]]\n",
    "    .hist(wavelength=wavelength)\n",
    "    .transpose()\n",
    "    .plot(norm='log')\n",
    ")\n",
    "display(results[WavelengthScaledQ[SampleRun, Denominator]].plot(norm='log'))\n",
    "parts = {str(key): results[key].sum('wavelength') for key in parts}\n",
    "display(sc.plot(parts, norm='log'))\n",
    "\n",
    "iofqs = {str(key): results[key] for key in iofqs}\n",
    "iofqs = {key: val if val.bins is None else val.hist() for key, val in iofqs.items()}\n",
    "display(sc.plot(iofqs, norm='log'))"
   ]
  },
  {
   "cell_type": "markdown",
   "id": "94062d33-04cb-4a4d-aef1-e5ec58c228c4",
   "metadata": {},
   "source": [
    "## Wavelength bands\n",
    "\n",
    "We can also compute $I(Q)$ inside a set of wavelength bands, instead of using the full wavelength range in one go.\n",
    "This is useful for debugging purposes.\n",
    "\n",
    "To achieve this, we need to supply the `WavelengthBands` parameter (as a two-dimensional variable),\n",
    "representing the wavelength range for each band."
   ]
  },
  {
   "cell_type": "code",
   "execution_count": null,
   "id": "27068e8a-350f-4ea4-b4a4-2b13926905b5",
   "metadata": {},
   "outputs": [],
   "source": [
    "workflow[WavelengthBands] = sc.linspace(\n",
    "    'wavelength', start=2.0, stop=16.0, num=11, unit='angstrom'\n",
    ")"
   ]
  },
  {
   "cell_type": "markdown",
   "id": "cc3cac02-2cb4-4da5-a83d-8e6fb3d2c929",
   "metadata": {},
   "source": [
    "Compute the result:"
   ]
  },
  {
   "cell_type": "code",
   "execution_count": null,
   "id": "6bd670f9-85db-4257-ab67-e296a7e8ecdf",
   "metadata": {},
   "outputs": [],
   "source": [
    "result = workflow.compute(BackgroundSubtractedIofQ)\n",
    "result"
   ]
  },
  {
   "cell_type": "markdown",
   "id": "601d2a4f-1295-4918-8177-d2dca0b839f9",
   "metadata": {},
   "source": [
    "The result is two-dimensional and we over-plot all the bands onto the same axes:"
   ]
  },
  {
   "cell_type": "code",
   "execution_count": null,
   "id": "d5df969d-79d1-443a-a71b-88faf8b57a37",
   "metadata": {},
   "outputs": [],
   "source": [
    "pp.plot(sc.collapse(result.hist(), keep='Q'), norm='log')"
   ]
  }
 ],
 "metadata": {
  "kernelspec": {
   "display_name": "Python 3 (ipykernel)",
   "language": "python",
   "name": "python3"
  },
  "language_info": {
   "codemirror_mode": {
    "name": "ipython",
    "version": 3
   },
   "file_extension": ".py",
   "mimetype": "text/x-python",
   "name": "python",
   "nbconvert_exporter": "python",
   "pygments_lexer": "ipython3",
   "version": "3.10.12"
  }
 },
 "nbformat": 4,
 "nbformat_minor": 5
}
