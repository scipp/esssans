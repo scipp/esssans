{
 "cells": [
  {
   "cell_type": "code",
   "execution_count": null,
   "id": "0",
   "metadata": {
    "tags": []
   },
   "outputs": [],
   "source": [
    "%matplotlib widget\n",
    "\n",
    "import scipp as sc\n",
    "import plopp\n",
    "from ess import loki\n",
    "from ess.sans.types import *\n",
    "import scippneutron as scn"
   ]
  },
  {
   "cell_type": "code",
   "execution_count": null,
   "id": "1",
   "metadata": {},
   "outputs": [],
   "source": [
    "workflow = loki.LokiWorkflow()\n",
    "\n",
    "# Set detector bank name: in this case there is only one bank\n",
    "workflow[NeXusDetectorName] = \"loki_detector_0\"\n",
    "\n",
    "# Wavelength and Q binning parameters\n",
    "workflow[WavelengthBins] = sc.linspace(\"wavelength\", 1.0, 13.0, 201, unit=\"angstrom\")\n",
    "workflow[QBins] = sc.linspace(dim=\"Q\", start=0.01, stop=0.3, num=101, unit=\"1/angstrom\")\n",
    "\n",
    "# Other parameters\n",
    "workflow[CorrectForGravity] = True\n",
    "workflow[UncertaintyBroadcastMode] = UncertaintyBroadcastMode.upper_bound\n",
    "workflow[ReturnEvents] = False\n",
    "workflow[BeamCenter] = sc.vector([0.0, 0.0, 0.0], unit=\"m\")"
   ]
  },
  {
   "cell_type": "code",
   "execution_count": null,
   "id": "2",
   "metadata": {},
   "outputs": [],
   "source": [
    "# Adjust filename as needed\n",
    "workflow[Filename[SampleRun]] = '977695_00057856.hdf'\n",
    "detector_events = workflow.compute(DetectorData[SampleRun])\n",
    "counts = detector_events.hist()"
   ]
  },
  {
   "cell_type": "code",
   "execution_count": null,
   "id": "3",
   "metadata": {},
   "outputs": [],
   "source": [
    "plopp.slicer(counts)"
   ]
  },
  {
   "cell_type": "code",
   "execution_count": null,
   "id": "4",
   "metadata": {},
   "outputs": [],
   "source": [
    "scn.instrument_view(counts, pixel_size=0.001)"
   ]
  }
 ],
 "metadata": {
  "kernelspec": {
   "display_name": "dev311",
   "language": "python",
   "name": "python3"
  },
  "language_info": {
   "codemirror_mode": {
    "name": "ipython",
    "version": 3
   },
   "file_extension": ".py",
   "mimetype": "text/x-python",
   "name": "python",
   "nbconvert_exporter": "python",
   "pygments_lexer": "ipython3",
   "version": "3.11.13"
  }
 },
 "nbformat": 4,
 "nbformat_minor": 5
}
