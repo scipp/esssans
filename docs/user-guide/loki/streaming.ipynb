{
 "cells": [
  {
   "cell_type": "markdown",
   "id": "50711a44",
   "metadata": {},
   "source": [
    "# Streamed processing with Loki workflow"
   ]
  },
  {
   "cell_type": "code",
   "execution_count": null,
   "id": "8c7f7cf7-0582-4953-a772-a0f87d1cf0e2",
   "metadata": {
    "tags": []
   },
   "outputs": [],
   "source": [
    "import scipp as sc\n",
    "from ess import sans\n",
    "from ess import loki\n",
    "import ess.loki.data  # noqa: F401\n",
    "from ess.sans.types import *"
   ]
  },
  {
   "cell_type": "markdown",
   "id": "446d14b9",
   "metadata": {},
   "source": [
    "## Create and configure the workflow\n",
    "\n",
    "We begin by creating the Loki workflow object (this is a [sciline.Pipeline](https://scipp.github.io/sciline/generated/classes/sciline.Pipeline.html) which can be consulted for advanced usage).\n",
    "The files we use here come from a Loki detector test at Larmor, so we use the corresponding workflow:"
   ]
  },
  {
   "cell_type": "code",
   "execution_count": null,
   "id": "63ceda7f",
   "metadata": {},
   "outputs": [],
   "source": [
    "workflow = loki.LokiAtLarmorWorkflow()"
   ]
  },
  {
   "cell_type": "markdown",
   "id": "d8fe14da",
   "metadata": {},
   "source": [
    "We configure the workflow be defining the series of masks filenames and bank names to reduce.\n",
    "In this case there is just a single bank:"
   ]
  },
  {
   "cell_type": "code",
   "execution_count": null,
   "id": "b8f42605",
   "metadata": {},
   "outputs": [],
   "source": [
    "workflow = sans.with_pixel_mask_filenames(\n",
    "    workflow, masks=loki.data.loki_tutorial_mask_filenames()\n",
    ")\n",
    "workflow[NeXusDetectorName] = 'larmor_detector'"
   ]
  },
  {
   "cell_type": "markdown",
   "id": "eb90e677",
   "metadata": {},
   "source": [
    "The workflow can be visualized as a graph.\n",
    "For readability we show only sub-workflow for computing `IofQ[Sample]`.\n",
    "The workflow can actually compute the full `BackgroundSubtractedIofQ`, which applies and equivalent workflow to the background run, before a subtraction step:"
   ]
  },
  {
   "cell_type": "code",
   "execution_count": null,
   "id": "dc988a34",
   "metadata": {},
   "outputs": [],
   "source": [
    "workflow.visualize(IofQ[SampleRun], compact=True, graph_attr={'rankdir': 'LR'})\n",
    "wf = workflow.copy()\n",
    "wf[TransmissionFraction[SampleRun]] = None\n",
    "wf.visualize(IofQ[SampleRun], compact=True, graph_attr={'rankdir': 'LR'})"
   ]
  },
  {
   "cell_type": "markdown",
   "id": "abde8696",
   "metadata": {},
   "source": [
    "Note the red boxes which indicate missing input parameters.\n",
    "We can set these missing parameters, as well as parameters where we do not want to use the defaults:"
   ]
  },
  {
   "cell_type": "code",
   "execution_count": null,
   "id": "ce2841f0-bd9e-43c3-8cc5-52bb45f392ad",
   "metadata": {},
   "outputs": [],
   "source": [
    "# Wavelength binning parameters\n",
    "wavelength_min = sc.scalar(1.0, unit='angstrom')\n",
    "wavelength_max = sc.scalar(13.0, unit='angstrom')\n",
    "n_wavelength_bins = 50\n",
    "n_wavelength_bands = 50\n",
    "\n",
    "workflow[WavelengthBins] = sc.linspace(\n",
    "    'wavelength', wavelength_min, wavelength_max, n_wavelength_bins + 1\n",
    ")\n",
    "workflow[WavelengthBands] = None\n",
    "\n",
    "\n",
    "workflow[CorrectForGravity] = True\n",
    "workflow[UncertaintyBroadcastMode] = UncertaintyBroadcastMode.upper_bound\n",
    "workflow[ReturnEvents] = False\n",
    "\n",
    "workflow[QBins] = sc.linspace(dim='Q', start=0.01, stop=0.3, num=101, unit='1/angstrom')\n",
    "workflow[DirectBeam] = None"
   ]
  },
  {
   "cell_type": "markdown",
   "id": "11e6d962",
   "metadata": {},
   "source": [
    "## Configuring data to load\n",
    "\n",
    "We have not configured which files we want to load.\n",
    "In this tutorial, we use helpers to fetch the tutorial data which return the filenames of the cached files.\n",
    "In a real use case, you would set these parameters manually:"
   ]
  },
  {
   "cell_type": "code",
   "execution_count": null,
   "id": "153ae0ca",
   "metadata": {},
   "outputs": [],
   "source": [
    "workflow[Filename[SampleRun]] = loki.data.loki_tutorial_sample_run_60339()\n",
    "workflow[Filename[SampleRun]] = loki.data.loki_tutorial_sample_run_60250()\n",
    "workflow[Filename[BackgroundRun]] = loki.data.loki_tutorial_background_run_60393()\n",
    "workflow[Filename[TransmissionRun[SampleRun]]] = (\n",
    "    loki.data.loki_tutorial_sample_transmission_run()\n",
    ")\n",
    "workflow[Filename[TransmissionRun[BackgroundRun]]] = loki.data.loki_tutorial_run_60392()\n",
    "workflow[Filename[EmptyBeamRun]] = loki.data.loki_tutorial_run_60392()"
   ]
  },
  {
   "cell_type": "markdown",
   "id": "632e3c82-89d6-4899-b1c2-f9a318899c33",
   "metadata": {},
   "source": [
    "## Finding the beam center\n",
    "\n",
    "Looking carefully at the workflow above,\n",
    "one will notice that there is a missing parameter from the workflow: the red box that contains the `BeamCenter` type.\n",
    "Before we can proceed with computing the direct beam function,\n",
    "we therefore have to first determine the center of the beam.\n",
    "\n",
    "There are more details on how this is done in the [beam center finder notebook](../common/beam-center-finder.ipynb),\n",
    "but for now we simply reuse the workflow (by making a copy),\n",
    "and inserting the provider that will compute the beam center.\n",
    "\n",
    "For now, we compute the beam center only for the rear detector (named 'larmor_detector') but apply it to all banks (currently there is only one bank).\n",
    "The beam center may need to be computed or applied differently to each bank, see [scipp/esssans#28](https://github.com/scipp/esssans/issues/28).\n",
    "We use a center-of-mass approach to find the beam center:"
   ]
  },
  {
   "cell_type": "code",
   "execution_count": null,
   "id": "6a17ac7c-de17-49c9-a02c-ca078eb7f023",
   "metadata": {},
   "outputs": [],
   "source": [
    "center = sans.beam_center_from_center_of_mass(workflow)\n",
    "center"
   ]
  },
  {
   "cell_type": "markdown",
   "id": "0814805a-9611-4951-a015-c12ae254b099",
   "metadata": {},
   "source": [
    "and set that value in our workflow"
   ]
  },
  {
   "cell_type": "code",
   "execution_count": null,
   "id": "e79181de-1de8-43a0-a934-e9407ebcd740",
   "metadata": {},
   "outputs": [],
   "source": [
    "workflow[BeamCenter] = center"
   ]
  },
  {
   "cell_type": "code",
   "execution_count": null,
   "id": "91d60046",
   "metadata": {},
   "outputs": [],
   "source": [
    "from ess.reduce.nexus.generic_types import NeXusDetectorEventData, NeXusMonitorEventData\n",
    "\n",
    "det_events = workflow.compute(NeXusDetectorEventData[SampleRun])\n",
    "mon_events = workflow.compute(NeXusMonitorEventData[SampleRun, Incident])\n",
    "det_events"
   ]
  },
  {
   "cell_type": "code",
   "execution_count": null,
   "id": "10f77397",
   "metadata": {},
   "outputs": [],
   "source": [
    "mon_events"
   ]
  },
  {
   "cell_type": "code",
   "execution_count": null,
   "id": "ca3ce55f",
   "metadata": {},
   "outputs": [],
   "source": [
    "%matplotlib widget\n",
    "dummy = sc.DataArray(\n",
    "    sc.zeros(dims=('Q',), shape=(100,), with_variances=True),\n",
    "    coords={'Q': sc.linspace('Q', 0.0, 1.0, 101, unit='1/angstrom')},\n",
    ")\n",
    "fig = dummy.plot(norm='log', scale={'Q': 'log'}, vmin=0.1, vmax=5)\n",
    "fig.canvas.ylabel = '$I(Q)$ ' + fig.canvas.ylabel\n",
    "artist = next(iter(fig.artists))\n",
    "display(fig)"
   ]
  },
  {
   "cell_type": "code",
   "execution_count": null,
   "id": "ec9581bd",
   "metadata": {},
   "outputs": [],
   "source": [
    "from functools import partial\n",
    "from ess.reduce import streaming\n",
    "\n",
    "streaming_wf = streaming.StreamProcessor(\n",
    "    base_workflow=workflow,\n",
    "    dynamic_keys=(\n",
    "        NeXusMonitorEventData[SampleRun, Incident],\n",
    "        NeXusDetectorEventData[SampleRun],\n",
    "    ),\n",
    "    accumulation_keys=(\n",
    "        ReducedQ[SampleRun, Numerator],\n",
    "        ReducedQ[SampleRun, Denominator],\n",
    "    ),\n",
    "    target_keys=(IofQ[SampleRun],),\n",
    "    # accumulator=streaming.EternalAccumulator,\n",
    "    accumulator=partial(streaming.RollingAccumulator, window=5),\n",
    ")\n",
    "\n",
    "\n",
    "det_stride = 60\n",
    "mon_stride = 1\n",
    "for i in range(100):\n",
    "    det_chunk = det_events[det_stride * i : det_stride * (i + 1)].copy()\n",
    "    mon_chunk = mon_events[mon_stride * i : mon_stride * (i + 1)].copy()\n",
    "    if 20 < i < 30:\n",
    "        det_chunk *= 0.0\n",
    "    results = streaming_wf.add_chunk(\n",
    "        {\n",
    "            NeXusDetectorEventData[SampleRun]: det_chunk,\n",
    "            NeXusMonitorEventData[SampleRun, Incident]: mon_chunk,\n",
    "        }\n",
    "    )\n",
    "    fig.update({artist: results[IofQ[SampleRun]]})\n",
    "    fig.fig.canvas.draw()\n",
    "    fig.fig.canvas.flush_events()"
   ]
  },
  {
   "cell_type": "markdown",
   "id": "ac933eb7",
   "metadata": {},
   "source": [
    "### Debugging files"
   ]
  },
  {
   "cell_type": "code",
   "execution_count": null,
   "id": "9dd7250e",
   "metadata": {},
   "outputs": [],
   "source": [
    "workflow[Filename[SampleRun]] = loki.data.loki_tutorial_sample_run_60339()\n",
    "workflow[Filename[SampleRun]] = loki.data.loki_tutorial_sample_run_60250()\n",
    "mon = workflow.compute(MonitorData[SampleRun, Incident]).hist()\n",
    "mon.plot()"
   ]
  },
  {
   "cell_type": "code",
   "execution_count": null,
   "id": "0606a550",
   "metadata": {},
   "outputs": [],
   "source": [
    "%matplotlib widget\n",
    "from ess.reduce.nexus.generic_types import NeXusDetectorEventData\n",
    "\n",
    "det = workflow.compute(NeXusDetectorEventData[SampleRun]).hist()\n",
    "det.plot()\n",
    "det.bin(event_time_zero=mon.coords['event_time_zero'][55:]).hist().plot()"
   ]
  },
  {
   "cell_type": "code",
   "execution_count": null,
   "id": "3beabae4",
   "metadata": {},
   "outputs": [],
   "source": [
    "t_mon = workflow.compute(MonitorData[SampleRun, Incident]).coords['event_time_zero']\n",
    "t_det = workflow.compute(NeXusDetectorEventData[SampleRun]).coords['event_time_zero']"
   ]
  },
  {
   "cell_type": "code",
   "execution_count": null,
   "id": "244e0c18",
   "metadata": {},
   "outputs": [],
   "source": [
    "t_mon.plot()"
   ]
  },
  {
   "cell_type": "code",
   "execution_count": null,
   "id": "75872142",
   "metadata": {},
   "outputs": [],
   "source": [
    "t_det.plot()"
   ]
  }
 ],
 "metadata": {
  "kernelspec": {
   "display_name": "Python 3 (ipykernel)",
   "language": "python",
   "name": "python3"
  },
  "language_info": {
   "codemirror_mode": {
    "name": "ipython",
    "version": 3
   },
   "file_extension": ".py",
   "mimetype": "text/x-python",
   "name": "python",
   "nbconvert_exporter": "python",
   "pygments_lexer": "ipython3",
   "version": "3.10.12"
  }
 },
 "nbformat": 4,
 "nbformat_minor": 5
}
