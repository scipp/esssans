{
 "cells": [
  {
   "cell_type": "markdown",
   "id": "0",
   "metadata": {},
   "source": [
    "# LoKI: data reduction from Larmor detector test\n",
    "\n",
    "This notebook shows how to use the `LokiAtLarmorWorkflow` to reduce data acquired during the 2022 LoKI detector test at Larmor.\n",
    "\n",
    "We will set up a standard workflow that computes a one-dimensional $I(Q)$ from the raw data,\n",
    "and reuse the workflow for 4 different samples:\n",
    "\n",
    "- [ISIS polymer](#ISIS-Polymer-sample)\n",
    "- [AgBeh](#AgBeh-sample)\n",
    "- [Porous silica](#Porous-Silica)\n",
    "- [deut-SDS](#Deut-SDS)"
   ]
  },
  {
   "cell_type": "code",
   "execution_count": null,
   "id": "1",
   "metadata": {
    "tags": []
   },
   "outputs": [],
   "source": [
    "import scipp as sc\n",
    "import plopp as pp\n",
    "from ess import sans\n",
    "from ess import loki\n",
    "import ess.loki.data  # noqa: F401\n",
    "from ess.sans.types import *"
   ]
  },
  {
   "cell_type": "markdown",
   "id": "2",
   "metadata": {},
   "source": [
    "## Create and configure the workflow\n",
    "\n",
    "We begin by creating the Loki workflow object:"
   ]
  },
  {
   "cell_type": "code",
   "execution_count": null,
   "id": "3",
   "metadata": {},
   "outputs": [],
   "source": [
    "workflow = loki.LokiAtLarmorWorkflow()\n",
    "\n",
    "# Load masks from files\n",
    "workflow = sans.with_pixel_mask_filenames(\n",
    "    workflow, masks=loki.data.loki_tutorial_mask_filenames()\n",
    ")\n",
    "# Set detector bank name: in this case there is only one bank\n",
    "workflow[NeXusDetectorName] = \"larmor_detector\"\n",
    "\n",
    "# Wavelength and Q binning parameters\n",
    "workflow[WavelengthBins] = sc.linspace(\"wavelength\", 1.0, 13.0, 201, unit=\"angstrom\")\n",
    "workflow[QBins] = sc.linspace(dim=\"Q\", start=0.01, stop=0.3, num=101, unit=\"1/angstrom\")\n",
    "\n",
    "# Other parameters\n",
    "workflow[CorrectForGravity] = True\n",
    "workflow[UncertaintyBroadcastMode] = UncertaintyBroadcastMode.upper_bound\n",
    "workflow[ReturnEvents] = False"
   ]
  },
  {
   "cell_type": "markdown",
   "id": "4",
   "metadata": {},
   "source": [
    "### File common to all runs\n",
    "\n",
    "We set files that are common to all sample runs, namely the background, empty beam and direct beam files:"
   ]
  },
  {
   "cell_type": "code",
   "execution_count": null,
   "id": "5",
   "metadata": {},
   "outputs": [],
   "source": [
    "workflow[Filename[BackgroundRun]] = loki.data.loki_tutorial_background_run_60393()\n",
    "workflow[Filename[TransmissionRun[BackgroundRun]]] = loki.data.loki_tutorial_run_60392()\n",
    "workflow[Filename[EmptyBeamRun]] = loki.data.loki_tutorial_run_60392()\n",
    "workflow[DirectBeamFilename] = loki.data.loki_tutorial_direct_beam_all_pixels()"
   ]
  },
  {
   "cell_type": "markdown",
   "id": "6",
   "metadata": {},
   "source": [
    "## ISIS Polymer sample\n",
    "\n",
    "We configure the files to load"
   ]
  },
  {
   "cell_type": "code",
   "execution_count": null,
   "id": "7",
   "metadata": {},
   "outputs": [],
   "source": [
    "workflow[Filename[SampleRun]] = loki.data.loki_tutorial_isis_polymer_sample_run()\n",
    "workflow[Filename[TransmissionRun[SampleRun]]] = (\n",
    "    loki.data.loki_tutorial_isis_polymer_transmission_run()\n",
    ")"
   ]
  },
  {
   "cell_type": "markdown",
   "id": "8",
   "metadata": {},
   "source": [
    "### Computing the beam center\n",
    "\n",
    "We use a center-of-mass approach to find the beam center:"
   ]
  },
  {
   "cell_type": "code",
   "execution_count": null,
   "id": "9",
   "metadata": {},
   "outputs": [],
   "source": [
    "center = sans.beam_center_from_center_of_mass(workflow)\n",
    "center"
   ]
  },
  {
   "cell_type": "markdown",
   "id": "10",
   "metadata": {},
   "source": [
    "and set that value in our workflow"
   ]
  },
  {
   "cell_type": "code",
   "execution_count": null,
   "id": "11",
   "metadata": {},
   "outputs": [],
   "source": [
    "workflow[BeamCenter] = center"
   ]
  },
  {
   "cell_type": "markdown",
   "id": "12",
   "metadata": {},
   "source": [
    "### Visualizing the workflow\n",
    "\n",
    "It is always a good idea to visualize the workflow graph, as a sanity check."
   ]
  },
  {
   "cell_type": "code",
   "execution_count": null,
   "id": "13",
   "metadata": {},
   "outputs": [],
   "source": [
    "workflow.visualize(BackgroundSubtractedIofQ, compact=True, graph_attr={\"rankdir\": \"LR\"})"
   ]
  },
  {
   "cell_type": "markdown",
   "id": "14",
   "metadata": {},
   "source": [
    "### Intermediate result: transmission fraction"
   ]
  },
  {
   "cell_type": "code",
   "execution_count": null,
   "id": "15",
   "metadata": {},
   "outputs": [],
   "source": [
    "tf = workflow.compute(TransmissionFraction[SampleRun])\n",
    "tf.plot()"
   ]
  },
  {
   "cell_type": "markdown",
   "id": "16",
   "metadata": {},
   "source": [
    "### Compute I(Q)"
   ]
  },
  {
   "cell_type": "code",
   "execution_count": null,
   "id": "17",
   "metadata": {},
   "outputs": [],
   "source": [
    "da = workflow.compute(BackgroundSubtractedIofQ)\n",
    "da.plot(norm=\"log\", title=\"ISIS polymer\")"
   ]
  },
  {
   "cell_type": "markdown",
   "id": "18",
   "metadata": {},
   "source": [
    "### Wavelength bands"
   ]
  },
  {
   "cell_type": "code",
   "execution_count": null,
   "id": "19",
   "metadata": {},
   "outputs": [],
   "source": [
    "workflow[WavelengthBands] = sc.linspace(\"wavelength\", 1.0, 13.0, 11, unit=\"angstrom\")\n",
    "da_bands = workflow.compute(BackgroundSubtractedIofQ)\n",
    "da_bands"
   ]
  },
  {
   "cell_type": "code",
   "execution_count": null,
   "id": "20",
   "metadata": {},
   "outputs": [],
   "source": [
    "pp.plot(sc.collapse(da_bands, keep=\"Q\"), norm=\"log\", title=\"ISIS polymer\")"
   ]
  },
  {
   "cell_type": "markdown",
   "id": "21",
   "metadata": {},
   "source": [
    "## AgBeh sample"
   ]
  },
  {
   "cell_type": "code",
   "execution_count": null,
   "id": "22",
   "metadata": {},
   "outputs": [],
   "source": [
    "# Reset wavelength bands\n",
    "workflow[WavelengthBands] = None\n",
    "\n",
    "workflow[Filename[SampleRun]] = loki.data.loki_tutorial_agbeh_sample_run()\n",
    "workflow[Filename[TransmissionRun[SampleRun]]] = (\n",
    "    loki.data.loki_tutorial_agbeh_transmission_run()\n",
    ")"
   ]
  },
  {
   "cell_type": "code",
   "execution_count": null,
   "id": "23",
   "metadata": {},
   "outputs": [],
   "source": [
    "# Beam center\n",
    "workflow[BeamCenter] = sans.beam_center_from_center_of_mass(workflow)"
   ]
  },
  {
   "cell_type": "code",
   "execution_count": null,
   "id": "24",
   "metadata": {},
   "outputs": [],
   "source": [
    "# I(Q)\n",
    "da = workflow.compute(BackgroundSubtractedIofQ)\n",
    "da.plot(norm=\"log\", title=\"AgBeh sample\")"
   ]
  },
  {
   "cell_type": "markdown",
   "id": "25",
   "metadata": {},
   "source": [
    "## Porous Silica"
   ]
  },
  {
   "cell_type": "code",
   "execution_count": null,
   "id": "26",
   "metadata": {},
   "outputs": [],
   "source": [
    "workflow[Filename[SampleRun]] = loki.data.loki_tutorial_porous_silica_sample_run()\n",
    "workflow[Filename[TransmissionRun[SampleRun]]] = (\n",
    "    loki.data.loki_tutorial_porous_silica_transmission_run()\n",
    ")\n",
    "\n",
    "# Beam center\n",
    "workflow[BeamCenter] = sans.beam_center_from_center_of_mass(workflow)\n",
    "\n",
    "# I(Q)\n",
    "da = workflow.compute(BackgroundSubtractedIofQ)\n",
    "da.plot(norm=\"log\", title=\"Porous silica\")"
   ]
  },
  {
   "cell_type": "markdown",
   "id": "27",
   "metadata": {},
   "source": [
    "## Deut-SDS"
   ]
  },
  {
   "cell_type": "code",
   "execution_count": null,
   "id": "28",
   "metadata": {},
   "outputs": [],
   "source": [
    "workflow[Filename[SampleRun]] = loki.data.loki_tutorial_deut_sds_sample_run()\n",
    "workflow[Filename[TransmissionRun[SampleRun]]] = (\n",
    "    loki.data.loki_tutorial_deut_sds_transmission_run()\n",
    ")\n",
    "\n",
    "# Beam center\n",
    "workflow[BeamCenter] = sans.beam_center_from_center_of_mass(workflow)\n",
    "\n",
    "# I(Q)\n",
    "da = workflow.compute(BackgroundSubtractedIofQ)\n",
    "da.plot(norm=\"log\", title=\"deut-SDS\")"
   ]
  }
 ],
 "metadata": {
  "kernelspec": {
   "display_name": "Python 3 (ipykernel)",
   "language": "python",
   "name": "python3"
  },
  "language_info": {
   "codemirror_mode": {
    "name": "ipython",
    "version": 3
   },
   "file_extension": ".py",
   "mimetype": "text/x-python",
   "name": "python",
   "nbconvert_exporter": "python",
   "pygments_lexer": "ipython3"
  }
 },
 "nbformat": 4,
 "nbformat_minor": 5
}
