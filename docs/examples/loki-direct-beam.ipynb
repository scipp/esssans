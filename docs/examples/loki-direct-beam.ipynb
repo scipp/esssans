{
 "cells": [
  {
   "cell_type": "markdown",
   "id": "9a935df3-c816-4829-99c3-2afa979b7611",
   "metadata": {},
   "source": [
    "# Direct beam iterations for LoKI\n",
    "\n",
    "## Introduction\n",
    "\n",
    "This notebook is used to compute the direct beam function for the LoKI detectors.\n",
    "It uses data recorded during the detector test at the Larmor instrument.\n",
    "\n",
    "**Description of the procedure:**\n",
    "\n",
    "The idea behind the direct beam iterations is to determine an efficiency of the detectors as a function of wavelength.\n",
    "To calculate this, it is possible to compute $I(Q)$ for the full wavelength range, and for individual slices (bands) of the wavelength range.\n",
    "If the direct beam function used in the $I(Q)$ computation is correct, then $I(Q)$ curves for the full wavelength range and inside the bands should overlap.\n",
    "\n",
    "In the following notebook, we will:\n",
    "\n",
    "1. Create a pipeline to compute $I(Q)$ inside a set of wavelength bands (the number of wavelength bands will be the number of data points in the final direct beam function)\n",
    "1. Create a flat direct beam function, as a function of wavelength, with wavelength bins corresponding to the wavelength bands\n",
    "1. Calculate inside each band by how much one would have to multiply the final $I(Q)$ so that the curve would overlap with the full-range curve\n",
    "   (we compute the full-range data by making a copy of the pipeline but setting only a single wavelength band that contains all wavelengths)\n",
    "1. Multiply the direct beam values inside each wavelength band by this factor\n",
    "1. Compare the full-range $I(Q)$ to a theoretical reference and add the corresponding additional scaling to the direct beam function\n",
    "1. Iterate until the changes to the direct beam function become small"
   ]
  },
  {
   "cell_type": "code",
   "execution_count": null,
   "id": "8c7f7cf7-0582-4953-a772-a0f87d1cf0e2",
   "metadata": {
    "tags": []
   },
   "outputs": [],
   "source": [
    "import numpy as np\n",
    "import scipp as sc\n",
    "import sciline\n",
    "import scippneutron as scn\n",
    "import plopp as pp\n",
    "import esssans as sans\n",
    "from esssans.types import *\n",
    "from esssans.direct_beam import direct_beam"
   ]
  },
  {
   "cell_type": "markdown",
   "id": "c21564a8-e742-4183-9edc-2c70c51d5863",
   "metadata": {},
   "source": [
    "## Define reduction parameters\n",
    "\n",
    "We define a dictionary containing the reduction parameters, with keys and types given by aliases or types defined in `esssans.types`:"
   ]
  },
  {
   "cell_type": "code",
   "execution_count": null,
   "id": "ce2841f0-bd9e-43c3-8cc5-52bb45f392ad",
   "metadata": {},
   "outputs": [],
   "source": [
    "params = sans.loki.default_parameters.copy()\n",
    "\n",
    "# List of files\n",
    "params[FileList[SampleRun]] = ['60339-2022-02-28_2215.nxs']\n",
    "params[FileList[BackgroundRun]] = ['60393-2022-02-28_2215.nxs']\n",
    "params[FileList[TransmissionRun[SampleRun]]] = ['60394-2022-02-28_2215.nxs']\n",
    "params[FileList[TransmissionRun[BackgroundRun]]] = ['60392-2022-02-28_2215.nxs']\n",
    "params[FileList[EmptyBeamRun]] = ['60392-2022-02-28_2215.nxs']\n",
    "\n",
    "# Wavelength binning parameters\n",
    "wavelength_min = sc.scalar(1.0, unit='angstrom')\n",
    "wavelength_max = sc.scalar(13.0, unit='angstrom')\n",
    "n_wavelength_bins = 200\n",
    "n_wavelength_bands = 50\n",
    "\n",
    "params[WavelengthBins] = sc.linspace(\n",
    "    'wavelength', wavelength_min, wavelength_max, n_wavelength_bins + 1\n",
    ")\n",
    "\n",
    "sampling_width = 2.0 * (wavelength_max - wavelength_min) / n_wavelength_bands\n",
    "band_start = sc.linspace(\n",
    "    'band', wavelength_min, wavelength_max - sampling_width, n_wavelength_bands\n",
    ")\n",
    "band_end = band_start + sampling_width\n",
    "params[WavelengthBands] = sc.concat(\n",
    "    [band_start, band_end], dim='wavelength'\n",
    ").transpose()\n",
    "\n",
    "params[BeamStopPosition] = sc.vector([-0.026, -0.022, 0.0], unit='m')\n",
    "params[BeamStopRadius] = sc.scalar(0.042, unit='m')\n",
    "\n",
    "params[CorrectForGravity] = True\n",
    "params[UncertaintyBroadcastMode] = UncertaintyBroadcastMode.upper_bound\n",
    "\n",
    "params[QBins] = sc.linspace(dim='Q', start=0.01, stop=0.3, num=101, unit='1/angstrom')"
   ]
  },
  {
   "cell_type": "markdown",
   "id": "f2c3b542",
   "metadata": {},
   "source": [
    "## Create pipeline using Sciline\n",
    "\n",
    "We use all providers available in `esssans` as well as the `loki`-specific providers,\n",
    "which include I/O and mask setup specific to the [LoKI](https://europeanspallationsource.se/instruments/loki) instrument.\n",
    "\n",
    "We then build the pipeline which can be used to compute the (background subtracted) $I(Q)$."
   ]
  },
  {
   "cell_type": "code",
   "execution_count": null,
   "id": "0c1e0e90-da33-45e7-a464-4799f4fbc657",
   "metadata": {},
   "outputs": [],
   "source": [
    "providers = sans.providers + sans.loki.providers\n",
    "\n",
    "pipeline = sciline.Pipeline(providers, params=params)"
   ]
  },
  {
   "cell_type": "markdown",
   "id": "805c22ea-216f-4ae4-bcbb-9eb31656cfef",
   "metadata": {},
   "source": [
    "Before we begin computations, we can visualize the pipeline:"
   ]
  },
  {
   "cell_type": "code",
   "execution_count": null,
   "id": "6eca12c4-e28c-4e45-8d3d-c5869746086b",
   "metadata": {},
   "outputs": [],
   "source": [
    "pipeline.visualize(BackgroundSubtractedIofQ, compact=True, graph_attr={'rankdir': 'LR'})"
   ]
  },
  {
   "cell_type": "markdown",
   "id": "3756cd2e-d402-4ed0-8dcb-682eef769c00",
   "metadata": {},
   "source": [
    "## Expected intensity at zero Q\n",
    "\n",
    "The sample used in the experiment has a known $I(Q)$ profile,\n",
    "and we need it to calibrate the absolute intensity of our $I(Q)$ results\n",
    "(relative differences between wavelength band and full-range results are not sufficient).\n",
    "\n",
    "We load this theoretical reference curve, and compute the $I_{0}$ intensity at the lower $Q$ bound of the range covered by the instrument."
   ]
  },
  {
   "cell_type": "code",
   "execution_count": null,
   "id": "e8951c82-e726-49b3-b102-66bfb9cc53e1",
   "metadata": {},
   "outputs": [],
   "source": [
    "from scipp.scipy.interpolate import interp1d\n",
    "from esssans.loki.data import get_path\n",
    "\n",
    "Iq_theory = sc.io.load_hdf5(get_path('PolyGauss_I0-50_Rg-60.h5'))\n",
    "f = interp1d(Iq_theory, 'Q')\n",
    "I0 = f(sc.midpoints(params[QBins])).data[0]\n",
    "I0"
   ]
  },
  {
   "cell_type": "markdown",
   "id": "078fb21e-c4d5-49e7-bcca-7bacf93fbd19",
   "metadata": {},
   "source": [
    "## A single direct beam function for all layers\n",
    "\n",
    "As a first pass, we compute a single direct beam function for all the detector pixels combined.\n",
    "\n",
    "We compute the $I(Q)$ inside the wavelength bands and the full wavelength range,\n",
    "derive a direct beam factor per wavelength band,\n",
    "and also add absolute scaling using the reference $I_{0}$ value"
   ]
  },
  {
   "cell_type": "code",
   "execution_count": null,
   "id": "6ffa0b31-a43c-4f73-a568-5fa1ab2d61bf",
   "metadata": {},
   "outputs": [],
   "source": [
    "results = direct_beam(pipeline=pipeline, I0=I0, niter=6)\n",
    "# Unpack the final result\n",
    "iofq_full = results[-1]['iofq_full']\n",
    "iofq_bands = results[-1]['iofq_bands']\n",
    "direct_beam_function = results[-1]['direct_beam']"
   ]
  },
  {
   "cell_type": "markdown",
   "id": "bc290019-85ea-406c-912d-75f1229f2ddf",
   "metadata": {},
   "source": [
    "We now compare the $I(Q)$ curves in each wavelength band to the one for the full wavelength range (black)."
   ]
  },
  {
   "cell_type": "code",
   "execution_count": null,
   "id": "0055bce0-18f2-425d-937b-fb8e211247b1",
   "metadata": {},
   "outputs": [],
   "source": [
    "pp.plot(\n",
    "    {**sc.collapse(iofq_bands, keep='Q'), **{'full': iofq_full}},\n",
    "    norm='log',\n",
    "    color={'full': 'k'},\n",
    "    legend=False,\n",
    ")"
   ]
  },
  {
   "cell_type": "markdown",
   "id": "d0a96015-061c-47ce-8384-2f34c8088332",
   "metadata": {},
   "source": [
    "The overlap is satisfactory, and we can now inspect the direct beam function we have computed:"
   ]
  },
  {
   "cell_type": "code",
   "execution_count": null,
   "id": "d4b514c3-af6e-441f-82a5-28bfc0110248",
   "metadata": {},
   "outputs": [],
   "source": [
    "direct_beam_function.plot(vmax=1)"
   ]
  },
  {
   "cell_type": "markdown",
   "id": "8b796452-7aaa-42fa-8cde-0c80a66ad1e2",
   "metadata": {},
   "source": [
    "Finally, as a sanity check, we compare our final $I(Q)$ for the full wavelength range to the theoretical reference:"
   ]
  },
  {
   "cell_type": "code",
   "execution_count": null,
   "id": "e491bd2d-5134-4837-b792-683f9ffd9e1d",
   "metadata": {},
   "outputs": [],
   "source": [
    "pp.plot({'reference': Iq_theory, 'data': iofq_full}, norm='log')"
   ]
  },
  {
   "cell_type": "markdown",
   "id": "0c616af7-b66c-4ae6-888e-1884d3ac9db1",
   "metadata": {},
   "source": [
    "## Direct beam function per layer\n",
    "\n",
    "The LoKI detector tubes are arranged in layers along the beam path,\n",
    "where the layers closest to the sample will receive most of the scattered neutrons,\n",
    "while occulting the layers behind them.\n",
    "\n",
    "A refinement to the above procedure is to compute a direct beam function for each layer of tubes individually.\n",
    "Because there is only a limited number of events in the run we are using,\n",
    "we have to reduce the number of wavelength bands we use for the direct beam.\n",
    "We also use the 4 thick layers of tubes, but in principle,\n",
    "this could also be done for 28 different layers of tubes if a run with enough events is provided (or many runs are combined together).\n",
    "\n",
    "So in the following, we use 20 wavelength bands instead of the 50 used above.\n",
    "The only other difference compared to the computation above is that we now want our final result to preserve the `'layer'` dimension,\n",
    "so that the dimensions of our result are `['layer', 'Q']`."
   ]
  },
  {
   "cell_type": "code",
   "execution_count": null,
   "id": "64682705-3322-4003-8a56-f52f2523c8d4",
   "metadata": {},
   "outputs": [],
   "source": [
    "n_wavelength_bands = 20\n",
    "sampling_width = 2.0 * (wavelength_max - wavelength_min) / n_wavelength_bands\n",
    "\n",
    "band_start = sc.linspace(\n",
    "    'band', wavelength_min, wavelength_max - sampling_width, n_wavelength_bands\n",
    ")\n",
    "band_end = band_start + sampling_width\n",
    "\n",
    "pipeline[WavelengthBands] = sc.concat(\n",
    "    [band_start, band_end], dim='wavelength'\n",
    ").transpose()\n",
    "\n",
    "# We want to preserve the 'layer' dimension\n",
    "pipeline[DimsToKeep] = ['layer']"
   ]
  },
  {
   "cell_type": "markdown",
   "id": "92691c97-4883-41b4-b880-17e0359191a2",
   "metadata": {},
   "source": [
    "Now we are able to run the direct-beam iterations on a per-layer basis:"
   ]
  },
  {
   "cell_type": "code",
   "execution_count": null,
   "id": "7e039618-d8c9-4201-9a9f-59738034786b",
   "metadata": {},
   "outputs": [],
   "source": [
    "results = direct_beam(pipeline=pipeline, I0=I0, niter=6)\n",
    "# Unpack the final result\n",
    "iofq_full = results[-1]['iofq_full']\n",
    "iofq_bands = results[-1]['iofq_bands']\n",
    "direct_beam_function = results[-1]['direct_beam']"
   ]
  },
  {
   "cell_type": "markdown",
   "id": "642c52a3-d174-4b75-b1ee-877231c316dd",
   "metadata": {},
   "source": [
    "We can now inspect the wavelength slices for the 4 layers."
   ]
  },
  {
   "cell_type": "code",
   "execution_count": null,
   "id": "591cb3c7-63c4-427f-97c9-f2ad332d6c37",
   "metadata": {},
   "outputs": [],
   "source": [
    "plots = [\n",
    "    pp.plot(\n",
    "        {\n",
    "            **sc.collapse(iofq_bands['layer', i], keep='Q'),\n",
    "            **{'full': iofq_full['layer', i]},\n",
    "        },\n",
    "        norm='log',\n",
    "        color={'full': 'k'},\n",
    "        legend=False,\n",
    "        title=f'Layer {i}',\n",
    "    )\n",
    "    for i in range(4)\n",
    "]\n",
    "\n",
    "(plots[0] + plots[1]) / (plots[2] + plots[3])"
   ]
  },
  {
   "cell_type": "markdown",
   "id": "9e1313fd-8f01-4a47-abf3-d641232b3d47",
   "metadata": {},
   "source": [
    "Now the direct beam function inside each layer looks like:"
   ]
  },
  {
   "cell_type": "code",
   "execution_count": null,
   "id": "2fde077a-4d16-44b1-af0e-58216a8db57e",
   "metadata": {},
   "outputs": [],
   "source": [
    "pp.plot(sc.collapse(direct_beam_function, keep='wavelength'))"
   ]
  },
  {
   "cell_type": "markdown",
   "id": "2a49bcac-0283-4802-97f4-a5a8453383cf",
   "metadata": {},
   "source": [
    "And finally, for completeness, we compare the $I(Q)$ to the theoretical reference inside each layer."
   ]
  },
  {
   "cell_type": "code",
   "execution_count": null,
   "id": "a6411f70-f7e2-4061-8641-cc612a19a080",
   "metadata": {},
   "outputs": [],
   "source": [
    "pp.plot({**{'reference': Iq_theory}, **sc.collapse(iofq_full, keep='Q')}, norm='log')"
   ]
  }
 ],
 "metadata": {
  "kernelspec": {
   "display_name": "Python 3 (ipykernel)",
   "language": "python",
   "name": "python3"
  },
  "language_info": {
   "codemirror_mode": {
    "name": "ipython",
    "version": 3
   },
   "file_extension": ".py",
   "mimetype": "text/x-python",
   "name": "python",
   "nbconvert_exporter": "python",
   "pygments_lexer": "ipython3"
  }
 },
 "nbformat": 4,
 "nbformat_minor": 5
}
