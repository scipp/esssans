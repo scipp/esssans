{
 "cells": [
  {
   "cell_type": "markdown",
   "id": "9a935df3-c816-4829-99c3-2afa979b7611",
   "metadata": {},
   "source": [
    "# Direct beam iterations for LoKI\n",
    "\n",
    "## Introduction\n",
    "\n",
    "This notebook is used to compute the direct beam function for the LoKI detectors.\n",
    "It uses data recorded during the detector test at the Larmor instrument."
   ]
  },
  {
   "cell_type": "code",
   "execution_count": null,
   "id": "8c7f7cf7-0582-4953-a772-a0f87d1cf0e2",
   "metadata": {
    "tags": []
   },
   "outputs": [],
   "source": [
    "import scipp as sc\n",
    "import sciline\n",
    "import scippneutron as scn\n",
    "import plopp as pp\n",
    "import esssans as sans\n",
    "from esssans.types import *\n",
    "from esssans.larmor import DataAsStraws"
   ]
  },
  {
   "cell_type": "code",
   "execution_count": null,
   "id": "743c9e9b-a515-4c3c-a4fa-44553ef96016",
   "metadata": {},
   "outputs": [],
   "source": [
    "%matplotlib widget"
   ]
  },
  {
   "cell_type": "markdown",
   "id": "c21564a8-e742-4183-9edc-2c70c51d5863",
   "metadata": {},
   "source": [
    "## Define reduction parameters\n",
    "\n",
    "We define a dictionary containing the reduction parameters, with keys and types given by aliases or types defined in `esssans.types`:"
   ]
  },
  {
   "cell_type": "code",
   "execution_count": null,
   "id": "ce2841f0-bd9e-43c3-8cc5-52bb45f392ad",
   "metadata": {},
   "outputs": [],
   "source": [
    "params = {}\n",
    "\n",
    "params[Filename[SampleRun]] = '60339-2022-02-28_2215.nxs'\n",
    "params[Filename[SampleTransmissionRun]] = '60394-2022-02-28_2215.nxs'\n",
    "params[Filename[EmptyBeamRun]] = '60392-2022-02-28_2215.nxs'\n",
    "\n",
    "params[NeXusMonitorName[Incident]] = 'monitor_1'\n",
    "params[NeXusMonitorName[Transmission]] = 'monitor_2'\n",
    "\n",
    "wavelength_min = sc.scalar(1.0, unit='angstrom')\n",
    "wavelength_max = sc.scalar(13.0, unit='angstrom')\n",
    "n_wavelength_bins = 300\n",
    "\n",
    "n_wavelength_bands = 100\n",
    "sampling_width = sc.scalar(0.2, unit='angstrom')\n",
    "\n",
    "# Derived params\n",
    "sampling_half_width = sampling_width * 0.5\n",
    "\n",
    "wavelength_sampling_points = sc.linspace(\n",
    "    dim='wavelength',\n",
    "    start=wavelength_min + sampling_half_width,\n",
    "    stop=wavelength_max - sampling_half_width,\n",
    "    num=n_wavelength_bands\n",
    ")\n",
    "\n",
    "band_start = wavelength_sampling_points - sampling_half_width\n",
    "band_end = wavelength_sampling_points + sampling_half_width\n",
    "wavelength_bins = sc.linspace('wavelength', wavelength_min, wavelength_max, n_wavelength_bins + 1)\n",
    "wavelength_bands = sc.concat([\n",
    "    sc.concat([start, end], dim='wavelength')\n",
    "    for start, end in zip(band_start, band_end)], dim='band')\n",
    "\n",
    "params[WavelengthBins] = wavelength_bins\n",
    "params[WavelengthBands] = wavelength_bands\n",
    "\n",
    "params[CorrectForGravity] = True\n",
    "params[UncertaintyBroadcastMode] = UncertaintyBroadcastMode.upper_bound\n",
    "\n",
    "params[QBins] = sc.linspace(dim='Q', start=0.01, stop=0.3, num=101, unit='1/angstrom')\n",
    "\n",
    "# Make a flat direct beam to start with\n",
    "direct_beam = sc.DataArray(\n",
    "    data=sc.ones(sizes={'wavelength': n_wavelength_bands}),\n",
    "    coords={'wavelength': wavelength_sampling_points})\n",
    "\n",
    "params[DirectBeam] = direct_beam"
   ]
  },
  {
   "cell_type": "code",
   "execution_count": null,
   "id": "bdd51a6d-795b-4733-bef0-2cbd45ef3d79",
   "metadata": {},
   "outputs": [],
   "source": [
    "params_full = params.copy()\n",
    "params_full[WavelengthBands] = sc.concat([wavelength_min, wavelength_max], dim='wavelength')"
   ]
  },
  {
   "cell_type": "markdown",
   "id": "f2c3b542",
   "metadata": {},
   "source": [
    "## Create pipeline using Sciline\n",
    "\n",
    "We use all providers available in `esssans` as well as the `sans2d`-specific providers, which include I/O and mask setup specific to the [Sans2d](https://www.isis.stfc.ac.uk/Pages/sans2d.aspx) instrument:"
   ]
  },
  {
   "cell_type": "code",
   "execution_count": null,
   "id": "0c1e0e90-da33-45e7-a464-4799f4fbc657",
   "metadata": {},
   "outputs": [],
   "source": [
    "providers = sans.providers + sans.larmor.providers\n",
    "\n",
    "# Pipeline with wavelength bands\n",
    "pipeline = sciline.Pipeline(providers, params=params)\n",
    "\n",
    "# Pipeline for the full wavelength range\n",
    "pipeline_full = sciline.Pipeline(providers, params=params_full)"
   ]
  },
  {
   "cell_type": "code",
   "execution_count": null,
   "id": "f9b0a452-19ce-46ab-aac7-735b105ff8ec",
   "metadata": {},
   "outputs": [],
   "source": [
    "pipeline.visualize(IofQ[SampleRun], graph_attr={'rankdir': 'LR'})"
   ]
  },
  {
   "cell_type": "code",
   "execution_count": null,
   "id": "7e039618-d8c9-4201-9a9f-59738034786b",
   "metadata": {},
   "outputs": [],
   "source": [
    "%%time\n",
    "\n",
    "import numpy as np\n",
    "\n",
    "niter = 4\n",
    "\n",
    "for it in range(niter):\n",
    "\n",
    "    print(f\"Iteration {it}\")\n",
    "\n",
    "    iofq_full = pipeline_full.compute(IofQ[SampleRun])\n",
    "    iofq_slices = pipeline.compute(IofQ[SampleRun])\n",
    "\n",
    "    eff = []\n",
    "    for sl in sc.collapse(iofq_slices, keep='Q').values():\n",
    "        # Try to remove noisy parts as well, maybe criterion based on the size of the error bars?\n",
    "        sel = (sl.data > 0.) & (sl.data != sc.scalar(np.inf)) & ((sc.variances(sl) / sc.values(sl)).data < 1.0)\n",
    "        eff.append((sc.values(sl[sel].data).nansum() / sc.values(iofq_full[sel].data).nansum()))\n",
    "\n",
    "    direct_beam *= sc.concat(eff, dim='wavelength')\n"
   ]
  },
  {
   "cell_type": "code",
   "execution_count": null,
   "id": "a33a8a5f-b795-479e-9883-b125050b03b0",
   "metadata": {},
   "outputs": [],
   "source": [
    "pp.plot({**sc.collapse(iofq_slices, keep='Q'),\n",
    "         **{'full': iofq_full}}, norm='log', color={'full': 'k'},\n",
    "        legend=False)"
   ]
  },
  {
   "cell_type": "code",
   "execution_count": null,
   "id": "d39aae1d-661a-4e1b-bd4a-458634469eae",
   "metadata": {},
   "outputs": [],
   "source": [
    "direct_beam.plot()"
   ]
  },
  {
   "cell_type": "code",
   "execution_count": null,
   "id": "31594297-003c-4c32-85fe-64e7ea7ac524",
   "metadata": {},
   "outputs": [],
   "source": [
    "direct_beam"
   ]
  }
 ],
 "metadata": {
  "kernelspec": {
   "display_name": "Python 3 (ipykernel)",
   "language": "python",
   "name": "python3"
  },
  "language_info": {
   "codemirror_mode": {
    "name": "ipython",
    "version": 3
   },
   "file_extension": ".py",
   "mimetype": "text/x-python",
   "name": "python",
   "nbconvert_exporter": "python",
   "pygments_lexer": "ipython3",
   "version": "3.10.12"
  }
 },
 "nbformat": 4,
 "nbformat_minor": 5
}
