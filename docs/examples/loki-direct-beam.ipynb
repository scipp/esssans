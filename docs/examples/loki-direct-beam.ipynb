{
 "cells": [
  {
   "cell_type": "markdown",
   "id": "9a935df3-c816-4829-99c3-2afa979b7611",
   "metadata": {},
   "source": [
    "# Direct beam iterations for LoKI\n",
    "\n",
    "## Introduction\n",
    "\n",
    "This notebook is used to compute the direct beam function for the LoKI detectors.\n",
    "It uses data recorded during the detector test at the Larmor instrument.\n",
    "\n",
    "**Description of the procedure:**\n",
    "\n",
    "The idea behind the direct beam iterations is to determine an efficiency of the detectors as a function of wavelength.\n",
    "To calculate this, it is possible to compute $I(Q)$ for the full wavelength range, and for individual slices (bands) of the wavelength range.\n",
    "If the direct beam function used in the $I(Q)$ computation is correct, then $I(Q)$ curves for the full wavelength range and inside the bands should overlap.\n",
    "\n",
    "In the following notebook, we will:\n",
    "\n",
    "1. Create two pipelines: one to compute $I(Q)$ for the full wavelength range (`pipeline_full`), and one to compute $I(Q)$ inside a set of wavelength bands (`pipeline_bands`)\n",
    "1. Create a flat direct beam function, as a function of wavelength, with wavelength bins corresponding to the wavelength bands\n",
    "1. Calculate inside each band by how much one would have to multiply the final $I(Q)$ so that the curve would overlap with the full range curve\n",
    "1. Multiply the direct beam values inside each wavelength band by this factor\n",
    "1. Compare the full-range $I(Q)$ to a theoretical reference and add the corresponding additional scaling to the direct beam function\n",
    "1. Iterate until the changes to the direct beam function become small"
   ]
  },
  {
   "cell_type": "code",
   "execution_count": null,
   "id": "8c7f7cf7-0582-4953-a772-a0f87d1cf0e2",
   "metadata": {
    "tags": []
   },
   "outputs": [],
   "source": [
    "import numpy as np\n",
    "import scipp as sc\n",
    "import sciline\n",
    "import scippneutron as scn\n",
    "import plopp as pp\n",
    "import esssans as sans\n",
    "from esssans.types import *\n",
    "from esssans.directbeam import direct_beam"
   ]
  },
  {
   "cell_type": "markdown",
   "id": "c21564a8-e742-4183-9edc-2c70c51d5863",
   "metadata": {},
   "source": [
    "## Define reduction parameters\n",
    "\n",
    "We define a dictionary containing the reduction parameters, with keys and types given by aliases or types defined in `esssans.types`:"
   ]
  },
  {
   "cell_type": "code",
   "execution_count": null,
   "id": "ce2841f0-bd9e-43c3-8cc5-52bb45f392ad",
   "metadata": {},
   "outputs": [],
   "source": [
    "params = {}\n",
    "\n",
    "sample_runs = [60339]  # If more runs are added, their events will be merged\n",
    "sample_filenames = [f'{i}-2022-02-28_2215.nxs' for i in sample_runs]\n",
    "param_table = sciline.ParamTable(\n",
    "    SampleRunID, {Filename[SampleRun]: sample_filenames}, index=sample_runs\n",
    ")\n",
    "\n",
    "params[Filename[SampleTransmissionRun]] = '60394-2022-02-28_2215.nxs'\n",
    "params[Filename[EmptyBeamRun]] = '60392-2022-02-28_2215.nxs'\n",
    "\n",
    "params[NeXusMonitorName[Incident]] = 'monitor_1'\n",
    "params[NeXusMonitorName[Transmission]] = 'monitor_2'\n",
    "\n",
    "# Wavelength binning parameters\n",
    "wavelength_min = sc.scalar(1.0, unit='angstrom')\n",
    "wavelength_max = sc.scalar(13.0, unit='angstrom')\n",
    "n_wavelength_bins = 200\n",
    "# Wavelength bands parameters\n",
    "n_wavelength_bands = 50\n",
    "sampling_width = sc.scalar(0.25, unit='angstrom')\n",
    "\n",
    "# Wavelength binning and bands\n",
    "wavelength_bins, wavelength_bands = sans.directbeam.make_wavelength_bins_and_bands(\n",
    "    wavelength_min=wavelength_min,\n",
    "    wavelength_max=wavelength_max,\n",
    "    n_wavelength_bins=n_wavelength_bins,\n",
    "    n_wavelength_bands=n_wavelength_bands,\n",
    "    sampling_width=sampling_width,\n",
    ")\n",
    "\n",
    "params[WavelengthBins] = wavelength_bins\n",
    "params[WavelengthBands] = wavelength_bands\n",
    "\n",
    "params[CorrectForGravity] = True\n",
    "params[UncertaintyBroadcastMode] = UncertaintyBroadcastMode.upper_bound\n",
    "\n",
    "params[QBins] = sc.linspace(dim='Q', start=0.01, stop=0.3, num=101, unit='1/angstrom')\n",
    "\n",
    "# The final result should have dims of Q only\n",
    "params[FinalDims] = ['Q']"
   ]
  },
  {
   "cell_type": "markdown",
   "id": "2caf9a74-26e2-4ae8-87b3-93fc9abe041c",
   "metadata": {},
   "source": [
    "The parameters for the full wavelength range pipeline are almost identical,\n",
    "except that there is only a single wavelength band that covers the full range."
   ]
  },
  {
   "cell_type": "code",
   "execution_count": null,
   "id": "bdd51a6d-795b-4733-bef0-2cbd45ef3d79",
   "metadata": {},
   "outputs": [],
   "source": [
    "params_full = params.copy()\n",
    "params_full[WavelengthBands] = sc.concat(\n",
    "    [wavelength_min, wavelength_max], dim='wavelength'\n",
    ")"
   ]
  },
  {
   "cell_type": "markdown",
   "id": "f2c3b542",
   "metadata": {},
   "source": [
    "## Create pipeline using Sciline\n",
    "\n",
    "We use all providers available in `esssans` as well as the `loki`-specific providers,\n",
    "which include I/O and mask setup specific to the [LoKI](https://europeanspallationsource.se/instruments/loki) instrument:"
   ]
  },
  {
   "cell_type": "code",
   "execution_count": null,
   "id": "0c1e0e90-da33-45e7-a464-4799f4fbc657",
   "metadata": {},
   "outputs": [],
   "source": [
    "providers = sans.providers + sans.loki.providers\n",
    "\n",
    "# Pipeline with wavelength bands\n",
    "pipeline_bands = sciline.Pipeline(providers, params=params)\n",
    "\n",
    "# Pipeline for the full wavelength range\n",
    "pipeline_full = sciline.Pipeline(providers, params=params_full)\n",
    "\n",
    "pipeline_bands.set_param_table(param_table)\n",
    "pipeline_full.set_param_table(param_table)"
   ]
  },
  {
   "cell_type": "markdown",
   "id": "805c22ea-216f-4ae4-bcbb-9eb31656cfef",
   "metadata": {},
   "source": [
    "Before we begin computations, we can visualize the pipeline:"
   ]
  },
  {
   "cell_type": "code",
   "execution_count": null,
   "id": "f9b0a452-19ce-46ab-aac7-735b105ff8ec",
   "metadata": {},
   "outputs": [],
   "source": [
    "pipeline_full.visualize(IofQ[SampleRun], compact=True, graph_attr={'rankdir': 'LR'})"
   ]
  },
  {
   "cell_type": "markdown",
   "id": "3756cd2e-d402-4ed0-8dcb-682eef769c00",
   "metadata": {},
   "source": [
    "## Expected intensity at zero Q\n",
    "\n",
    "The sample used in the experiment has a known $I(Q)$ profile,\n",
    "and we need it to calibrate the absolute intensity of our $I(Q)$ results\n",
    "(relative differences between wavelength band and full-range results are not sufficient).\n",
    "\n",
    "We load this theoretical reference curve, and compute the $I_{0}$ intensity at the lower $Q$ bound of the range covered by the instrument."
   ]
  },
  {
   "cell_type": "code",
   "execution_count": null,
   "id": "e8951c82-e726-49b3-b102-66bfb9cc53e1",
   "metadata": {},
   "outputs": [],
   "source": [
    "from esssans.data import get_path\n",
    "\n",
    "ref_filename = 'PolyGauss_I0-50_Rg-60.txt'\n",
    "data = np.loadtxt(get_path(ref_filename))\n",
    "\n",
    "qcoord = sc.array(dims=[\"Q\"], values=data[:, 0], unit='1/angstrom')\n",
    "theory = sc.DataArray(\n",
    "    data=sc.array(dims=[\"Q\"], values=data[:, 1], unit=''), coords={\"Q\": qcoord}\n",
    ")\n",
    "\n",
    "q_loc = sc.midpoints(params[QBins])[0]\n",
    "q_loc\n",
    "\n",
    "ind = np.argmax((qcoord > q_loc).values)\n",
    "I0 = (theory.data[ind] - theory.data[ind - 1]) / (qcoord[ind] - qcoord[ind - 1]) * (\n",
    "    q_loc - qcoord[ind - 1]\n",
    ") + theory.data[ind - 1]\n",
    "I0"
   ]
  },
  {
   "cell_type": "markdown",
   "id": "078fb21e-c4d5-49e7-bcca-7bacf93fbd19",
   "metadata": {},
   "source": [
    "## A single direct beam function for all layers\n",
    "\n",
    "As a first pass, we compute a single direct beam function for all the detector pixels combined.\n",
    "\n",
    "We compute the $I(Q)$ using both the `_full` and `_bands` pipelines,\n",
    "derive a direct beam factor per wavelength band,\n",
    "and also add absolute scaling using the reference $I_{0}$ value"
   ]
  },
  {
   "cell_type": "code",
   "execution_count": null,
   "id": "6ffa0b31-a43c-4f73-a568-5fa1ab2d61bf",
   "metadata": {},
   "outputs": [],
   "source": [
    "results = direct_beam(pipelines=[pipeline_full, pipeline_bands], I0=I0, niter=6)\n",
    "# Unpack the final result\n",
    "iofq_full = results[-1]['iofq_full']\n",
    "iofq_slices = results[-1]['iofq_slices']\n",
    "direct_beam_function = results[-1]['direct_beam']"
   ]
  },
  {
   "cell_type": "markdown",
   "id": "bc290019-85ea-406c-912d-75f1229f2ddf",
   "metadata": {},
   "source": [
    "We now compare the $I(Q)$ curves in each wavelength band to the one for the full wavelength range (black)."
   ]
  },
  {
   "cell_type": "code",
   "execution_count": null,
   "id": "0055bce0-18f2-425d-937b-fb8e211247b1",
   "metadata": {},
   "outputs": [],
   "source": [
    "pp.plot(\n",
    "    {**sc.collapse(iofq_slices, keep='Q'), **{'full': iofq_full}},\n",
    "    norm='log',\n",
    "    color={'full': 'k'},\n",
    "    legend=False,\n",
    ")"
   ]
  },
  {
   "cell_type": "markdown",
   "id": "d0a96015-061c-47ce-8384-2f34c8088332",
   "metadata": {},
   "source": [
    "The overlap is satisfactory, and we can now inspect the direct beam function we have computed:"
   ]
  },
  {
   "cell_type": "code",
   "execution_count": null,
   "id": "d4b514c3-af6e-441f-82a5-28bfc0110248",
   "metadata": {},
   "outputs": [],
   "source": [
    "direct_beam_function.plot(vmax=1)"
   ]
  },
  {
   "cell_type": "markdown",
   "id": "8b796452-7aaa-42fa-8cde-0c80a66ad1e2",
   "metadata": {},
   "source": [
    "Finally, as a sanity check, we compare our final $I(Q)$ for the full wavelength range to the theoretical reference:"
   ]
  },
  {
   "cell_type": "code",
   "execution_count": null,
   "id": "e491bd2d-5134-4837-b792-683f9ffd9e1d",
   "metadata": {},
   "outputs": [],
   "source": [
    "pp.plot({ref_filename: theory, 'data': iofq_full}, norm='log')"
   ]
  },
  {
   "cell_type": "markdown",
   "id": "0c616af7-b66c-4ae6-888e-1884d3ac9db1",
   "metadata": {},
   "source": [
    "## Direct beam function per layer\n",
    "\n",
    "The LoKI detector tubes are arranged in layers along the beam path,\n",
    "where the layers closest to the sample will receive most of the scattered neutrons,\n",
    "while occulting the layers behind them.\n",
    "\n",
    "A refinement to the above procedure is to compute a direct beam function for each layer of tubes individually.\n",
    "Because there is only a limited number of events in the run we are using,\n",
    "we have to reduce the number of wavelength bands we use for the direct beam.\n",
    "We also use the 4 thick layers of tubes, but in principle,\n",
    "this could also be done for 28 different layers of tubes if a run with enough events is provided (or many runs are combined together).\n",
    "\n",
    "So in the following, we use 20 wavelength bands instead of the 50 used above.\n",
    "The only other difference compared to the compuation above is that we now want our final result to preserve the `'layer'` dimension,\n",
    "so that the dimensions of our result are `['layer', 'Q']`."
   ]
  },
  {
   "cell_type": "code",
   "execution_count": null,
   "id": "64682705-3322-4003-8a56-f52f2523c8d4",
   "metadata": {},
   "outputs": [],
   "source": [
    "n_wavelength_bands = 20\n",
    "sampling_width = sc.scalar(0.75, unit='angstrom')\n",
    "\n",
    "wavelength_bins, wavelength_bands = sans.directbeam.make_wavelength_bins_and_bands(\n",
    "    wavelength_min=wavelength_min,\n",
    "    wavelength_max=wavelength_max,\n",
    "    n_wavelength_bins=n_wavelength_bins,\n",
    "    n_wavelength_bands=n_wavelength_bands,\n",
    "    sampling_width=sampling_width,\n",
    ")\n",
    "\n",
    "params[WavelengthBins] = wavelength_bins\n",
    "params[WavelengthBands] = wavelength_bands\n",
    "# The final result should have dims of (layer, Q)\n",
    "params[FinalDims] = ['layer', 'Q']"
   ]
  },
  {
   "cell_type": "markdown",
   "id": "a456fb2f-b7a2-4ea9-80c0-cb333cbe9c4b",
   "metadata": {},
   "source": [
    "We need to re-build the pipelines from the new parameters:"
   ]
  },
  {
   "cell_type": "code",
   "execution_count": null,
   "id": "82ebf2c6-012a-4d79-bd9d-2dbae203f3b3",
   "metadata": {},
   "outputs": [],
   "source": [
    "params_full = params.copy()\n",
    "params_full[WavelengthBands] = sc.concat(\n",
    "    [wavelength_min, wavelength_max], dim='wavelength'\n",
    ")\n",
    "\n",
    "providers = sans.providers + sans.loki.providers\n",
    "\n",
    "# Pipeline with wavelength bands\n",
    "pipeline_bands = sciline.Pipeline(providers, params=params)\n",
    "\n",
    "# Pipeline for the full wavelength range\n",
    "pipeline_full = sciline.Pipeline(providers, params=params_full)\n",
    "\n",
    "pipeline_bands.set_param_table(param_table)\n",
    "pipeline_full.set_param_table(param_table)"
   ]
  },
  {
   "cell_type": "markdown",
   "id": "92691c97-4883-41b4-b880-17e0359191a2",
   "metadata": {},
   "source": [
    "Now we are able to run the direct-beam iterations on a per-layer basis:"
   ]
  },
  {
   "cell_type": "code",
   "execution_count": null,
   "id": "7e039618-d8c9-4201-9a9f-59738034786b",
   "metadata": {},
   "outputs": [],
   "source": [
    "results = direct_beam(pipelines=[pipeline_full, pipeline_bands], I0=I0, niter=6)\n",
    "# Unpack the final result\n",
    "iofq_full = results[-1]['iofq_full']\n",
    "iofq_slices = results[-1]['iofq_slices']\n",
    "direct_beam_function = results[-1]['direct_beam']"
   ]
  },
  {
   "cell_type": "markdown",
   "id": "642c52a3-d174-4b75-b1ee-877231c316dd",
   "metadata": {},
   "source": [
    "We can now inspect the wavelength slices for the 4 layers."
   ]
  },
  {
   "cell_type": "code",
   "execution_count": null,
   "id": "591cb3c7-63c4-427f-97c9-f2ad332d6c37",
   "metadata": {},
   "outputs": [],
   "source": [
    "plots = [\n",
    "    pp.plot(\n",
    "        {\n",
    "            **sc.collapse(iofq_slices['layer', i], keep='Q'),\n",
    "            **{'full': iofq_full['layer', i]},\n",
    "        },\n",
    "        norm='log',\n",
    "        color={'full': 'k'},\n",
    "        legend=False,\n",
    "        title=f'Layer {i}',\n",
    "    )\n",
    "    for i in range(4)\n",
    "]\n",
    "\n",
    "(plots[0] + plots[1]) / (plots[2] + plots[3])"
   ]
  },
  {
   "cell_type": "markdown",
   "id": "9e1313fd-8f01-4a47-abf3-d641232b3d47",
   "metadata": {},
   "source": [
    "Now the direct beam function inside each layer looks like:"
   ]
  },
  {
   "cell_type": "code",
   "execution_count": null,
   "id": "2fde077a-4d16-44b1-af0e-58216a8db57e",
   "metadata": {},
   "outputs": [],
   "source": [
    "pp.plot(sc.collapse(direct_beam_function, keep='wavelength'))"
   ]
  },
  {
   "cell_type": "markdown",
   "id": "2a49bcac-0283-4802-97f4-a5a8453383cf",
   "metadata": {},
   "source": [
    "And finally, for completeness, we compare the $I(Q)$ to the theoretical reference inside each layer."
   ]
  },
  {
   "cell_type": "code",
   "execution_count": null,
   "id": "a6411f70-f7e2-4061-8641-cc612a19a080",
   "metadata": {},
   "outputs": [],
   "source": [
    "pp.plot({**{ref_filename: theory}, **sc.collapse(iofq_full, keep='Q')}, norm='log')"
   ]
  }
 ],
 "metadata": {
  "kernelspec": {
   "display_name": "Python 3 (ipykernel)",
   "language": "python",
   "name": "python3"
  },
  "language_info": {
   "codemirror_mode": {
    "name": "ipython",
    "version": 3
   },
   "file_extension": ".py",
   "mimetype": "text/x-python",
   "name": "python",
   "nbconvert_exporter": "python",
   "pygments_lexer": "ipython3"
  }
 },
 "nbformat": 4,
 "nbformat_minor": 5
}
