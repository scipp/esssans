{
 "cells": [
  {
   "cell_type": "markdown",
   "id": "9a935df3-c816-4829-99c3-2afa979b7611",
   "metadata": {},
   "source": [
    "# Sans2d data reduction\n",
    "\n",
    "## Introduction\n",
    "\n",
    "This notebook gives a concise overview of how to use the `esssans` package with Sciline, on the example of the data reduction of a Sans2d experiment.\n",
    "We begin with relevant imports:"
   ]
  },
  {
   "cell_type": "code",
   "execution_count": null,
   "id": "8c7f7cf7-0582-4953-a772-a0f87d1cf0e2",
   "metadata": {
    "tags": []
   },
   "outputs": [],
   "source": [
    "import scipp as sc\n",
    "import sciline\n",
    "import plopp as pp\n",
    "import esssans as sans\n",
    "import esssans.isis as isis\n",
    "from esssans.types import *"
   ]
  },
  {
   "cell_type": "markdown",
   "id": "3da2d397-6206-4ed1-a98f-11b3aaf7e5b0",
   "metadata": {},
   "source": [
    "## Define reduction parameters\n",
    "\n",
    "We define the reduction parameters, with keys and types given by aliases or types defined in `esssans.types`:"
   ]
  },
  {
   "cell_type": "code",
   "execution_count": null,
   "id": "d3f5e1ee-bd80-4301-9ff9-15c8ada3cf57",
   "metadata": {},
   "outputs": [],
   "source": [
    "params = {}\n",
    "\n",
    "params[DirectBeamFilename] = 'DIRECT_SANS2D_REAR_34327_4m_8mm_16Feb16.dat'\n",
    "params[Filename[SampleRun]] = 'SANS2D00063114.nxs'\n",
    "params[Filename[BackgroundRun]] = 'SANS2D00063159.nxs'\n",
    "params[Filename[EmptyBeamRun]] = 'SANS2D00063091.nxs'\n",
    "params[OutFilename] = 'reduced.nxs'\n",
    "\n",
    "params[NeXusMonitorName[Incident]] = 'monitor2'\n",
    "params[NeXusMonitorName[Transmission]] = 'monitor4'\n",
    "\n",
    "params[sans.isis.SampleOffset] = sc.vector([0.0, 0.0, 0.053], unit='m')\n",
    "params[sans.isis.MonitorOffset[Transmission]] = sc.vector([0.0, 0.0, -6.719], unit='m')\n",
    "\n",
    "params[WavelengthBins] = sc.linspace(\n",
    "    'wavelength', start=2.0, stop=16.0, num=141, unit='angstrom'\n",
    ")\n",
    "\n",
    "params[sans.isis.sans2d.LowCountThreshold] = sc.scalar(100, unit='counts')\n",
    "\n",
    "mask_interval = sc.array(dims=['wavelength'], values=[2.21, 2.59], unit='angstrom')\n",
    "params[WavelengthMask] = sc.DataArray(\n",
    "    sc.array(dims=['wavelength'], values=[True]),\n",
    "    coords={'wavelength': mask_interval},\n",
    ")\n",
    "\n",
    "params[QBins] = sc.linspace(dim='Q', start=0.01, stop=0.6, num=141, unit='1/angstrom')\n",
    "params[NonBackgroundWavelengthRange] = sc.array(\n",
    "    dims=['wavelength'], values=[0.7, 17.1], unit='angstrom'\n",
    ")\n",
    "params[CorrectForGravity] = True\n",
    "params[UncertaintyBroadcastMode] = UncertaintyBroadcastMode.upper_bound\n",
    "params[sans.ReturnEvents] = True"
   ]
  },
  {
   "cell_type": "markdown",
   "id": "c21564a8-e742-4183-9edc-2c70c51d5863",
   "metadata": {},
   "source": [
    "## Create pipeline using Sciline\n",
    "\n",
    "We use all providers available in `esssans` as well as the `isis` and `sans2d`-specific providers, which include I/O and mask setup specific to the [Sans2d](https://www.isis.stfc.ac.uk/Pages/sans2d.aspx) instrument:"
   ]
  },
  {
   "cell_type": "code",
   "execution_count": null,
   "id": "85b955ba-a54d-4760-bb35-af9cbe1ada90",
   "metadata": {},
   "outputs": [],
   "source": [
    "providers = (\n",
    "    sans.providers + isis.providers + isis.data.providers + isis.sans2d.providers\n",
    ")\n",
    "providers = providers + (\n",
    "    sans.transmission_from_background_run,\n",
    "    sans.transmission_from_sample_run,\n",
    ")\n",
    "\n",
    "pipeline = sciline.Pipeline(providers=providers, params=params)"
   ]
  },
  {
   "cell_type": "markdown",
   "id": "c19eeaf0",
   "metadata": {},
   "source": [
    "## Use the pipeline\n",
    "\n",
    "### Compute final result\n",
    "\n",
    "We can get the graph for computing the background-subtracted $I(Q)$:"
   ]
  },
  {
   "cell_type": "code",
   "execution_count": null,
   "id": "a48c0f4d",
   "metadata": {},
   "outputs": [],
   "source": [
    "iofq = pipeline.get(BackgroundSubtractedIofQ)"
   ]
  },
  {
   "cell_type": "markdown",
   "id": "07c5c2cb",
   "metadata": {},
   "source": [
    "Before we compute the result, we can visualize the pipeline:"
   ]
  },
  {
   "cell_type": "code",
   "execution_count": null,
   "id": "bc186654",
   "metadata": {},
   "outputs": [],
   "source": [
    "# left-right layout works better for this graph\n",
    "iofq.visualize(graph_attr={'rankdir': 'LR'})"
   ]
  },
  {
   "cell_type": "markdown",
   "id": "505f26fc",
   "metadata": {},
   "source": [
    "Now we can compute the result:"
   ]
  },
  {
   "cell_type": "code",
   "execution_count": null,
   "id": "c8cf57ce",
   "metadata": {},
   "outputs": [],
   "source": [
    "result = iofq.compute()\n",
    "result.hist().plot(scale={'Q': 'log'}, norm='log')"
   ]
  },
  {
   "cell_type": "markdown",
   "id": "28532aa7",
   "metadata": {},
   "source": [
    "As the result was computed in event-mode, we can also use a different $Q$-binning, without re-reducing the data:"
   ]
  },
  {
   "cell_type": "code",
   "execution_count": null,
   "id": "e0748a1a",
   "metadata": {},
   "outputs": [],
   "source": [
    "result.hist(Q=60).plot(scale={'Q': 'log'}, norm='log')"
   ]
  },
  {
   "cell_type": "markdown",
   "id": "2359dd3d",
   "metadata": {},
   "source": [
    "In the above we used an upper bound for the uncertainties of the normalization factors.\n",
    "We can also compute the result with dropped normalization-factor uncertainties.\n",
    "This is incorrect, but is useful for understanding whether the normalization factors significantly contribute to the uncertainty of the result:"
   ]
  },
  {
   "cell_type": "code",
   "execution_count": null,
   "id": "6a8e0b6b",
   "metadata": {},
   "outputs": [],
   "source": [
    "pipeline[UncertaintyBroadcastMode] = UncertaintyBroadcastMode.drop\n",
    "result_drop = pipeline.compute(BackgroundSubtractedIofQ)\n",
    "# Reset the UnsertaintyBroadcastMode to the old value\n",
    "pipeline[UncertaintyBroadcastMode] = UncertaintyBroadcastMode.upper_bound\n",
    "sc.DataGroup(upper_bound=result, dropped=result_drop).hist().plot(norm='log')"
   ]
  },
  {
   "cell_type": "markdown",
   "id": "53ce1e48-b8a9-475a-b0ec-9ad204541543",
   "metadata": {},
   "source": [
    "### Save reduced data to file\n",
    "\n",
    "`esssans` provides a function for saving the reduced data as an [NXcanSAS](https://manual.nexusformat.org/classes/applications/NXcanSAS.html) file.\n",
    "It could be used directly with the `result` computed above, but we would have to provide the required metadata ourselves.\n",
    "Instead, we use Sciline to get all required information directly from the pipeline: (See also the [File output](https://scipp.github.io/sciline/recipes/recipes.html#File-output) docs.)"
   ]
  },
  {
   "cell_type": "code",
   "execution_count": null,
   "id": "b83c7580-fba7-43d8-b9d0-1aeeebbe0301",
   "metadata": {},
   "outputs": [],
   "source": [
    "from esssans.io import save_background_subtracted_iofq\n",
    "\n",
    "pipeline.bind_and_call(save_background_subtracted_iofq)"
   ]
  },
  {
   "cell_type": "markdown",
   "id": "f39206c6",
   "metadata": {},
   "source": [
    "### Compute intermediate results\n",
    "\n",
    "For inspection and debugging purposes we can also compute intermediate results.\n",
    "To avoid repeated computation (including costly loading of files) we can request multiple results at once, including the final result, if desired.\n",
    "For example:"
   ]
  },
  {
   "cell_type": "code",
   "execution_count": null,
   "id": "bb922379",
   "metadata": {},
   "outputs": [],
   "source": [
    "from esssans.isis import plot_flat_detector_xy\n",
    "\n",
    "monitors = (\n",
    "    WavelengthMonitor[SampleRun, Incident],\n",
    "    WavelengthMonitor[SampleRun, Transmission],\n",
    "    WavelengthMonitor[BackgroundRun, Incident],\n",
    "    WavelengthMonitor[BackgroundRun, Transmission],\n",
    ")\n",
    "parts = (CleanSummedQ[SampleRun, Numerator], CleanSummedQ[SampleRun, Denominator])\n",
    "iofqs = (IofQ[SampleRun], IofQ[BackgroundRun], BackgroundSubtractedIofQ)\n",
    "keys = monitors + (MaskedData[SampleRun],) + parts + iofqs\n",
    "\n",
    "results = pipeline.compute(keys)\n",
    "\n",
    "display(sc.plot({str(key): results[key] for key in monitors}, norm='log'))\n",
    "\n",
    "display(\n",
    "    plot_flat_detector_xy(\n",
    "        results[MaskedData[SampleRun]]['spectrum', :61440].hist(), norm='log'\n",
    "    )\n",
    ")\n",
    "\n",
    "wavelength = pipeline.compute(WavelengthBins)\n",
    "display(\n",
    "    results[CleanSummedQ[SampleRun, Numerator]]\n",
    "    .hist(wavelength=wavelength)\n",
    "    .transpose()\n",
    "    .plot(norm='log')\n",
    ")\n",
    "display(results[CleanSummedQ[SampleRun, Denominator]].plot(norm='log'))\n",
    "parts = {str(key): results[key].sum('wavelength') for key in parts}\n",
    "display(sc.plot(parts, norm='log'))\n",
    "\n",
    "iofqs = {str(key): results[key] for key in iofqs}\n",
    "iofqs = {key: val if val.bins is None else val.hist() for key, val in iofqs.items()}\n",
    "display(sc.plot(iofqs, norm='log'))"
   ]
  },
  {
   "cell_type": "markdown",
   "id": "372b8d4f",
   "metadata": {},
   "source": [
    "### Avoiding duplicate computation with parameter tables\n",
    "\n",
    "We have seen above that Sciline can avoid duplicate computation by requesting multiple results.\n",
    "However, this is not always possible, for example if we want to compute the final result with different parameters.\n",
    "In this case we can use parameter tables to avoid duplicate computation.\n",
    "For example, we can compute the final result with different values for handling the uncertainties of the normalization factors.\n",
    "This will avoid repeating loading files as well as some computation steps:"
   ]
  },
  {
   "cell_type": "code",
   "execution_count": null,
   "id": "ceb079ee",
   "metadata": {},
   "outputs": [],
   "source": [
    "from typing import NewType\n",
    "\n",
    "Mode = NewType('Mode', str)\n",
    "param_table = sciline.ParamTable(\n",
    "    Mode,\n",
    "    {\n",
    "        UncertaintyBroadcastMode: [\n",
    "            UncertaintyBroadcastMode.upper_bound,\n",
    "            UncertaintyBroadcastMode.drop,\n",
    "        ]\n",
    "    },\n",
    "    index=[Mode('upper_bound'), Mode('drop')],\n",
    ")\n",
    "pipeline.set_param_table(param_table)\n",
    "results = pipeline.compute(sciline.Series[Mode, BackgroundSubtractedIofQ])\n",
    "sc.DataGroup(results).hist().plot(norm='log')"
   ]
  },
  {
   "cell_type": "markdown",
   "id": "94062d33-04cb-4a4d-aef1-e5ec58c228c4",
   "metadata": {},
   "source": [
    "## Wavelength bands\n",
    "\n",
    "We can also compute $I(Q)$ inside a set of wavelength bands, instead of using the full wavelength range in one go.\n",
    "This is useful for debugging purposes.\n",
    "\n",
    "To achieve this, we need to supply the `WavelengthBands` parameter (as a two-dimensional variable),\n",
    "representing the wavelength range for each band."
   ]
  },
  {
   "cell_type": "code",
   "execution_count": null,
   "id": "27068e8a-350f-4ea4-b4a4-2b13926905b5",
   "metadata": {},
   "outputs": [],
   "source": [
    "pipeline[WavelengthBands] = sc.linspace(\n",
    "    'wavelength', start=2.0, stop=16.0, num=11, unit='angstrom'\n",
    ")"
   ]
  },
  {
   "cell_type": "markdown",
   "id": "cc3cac02-2cb4-4da5-a83d-8e6fb3d2c929",
   "metadata": {},
   "source": [
    "Compute the result:"
   ]
  },
  {
   "cell_type": "code",
   "execution_count": null,
   "id": "6bd670f9-85db-4257-ab67-e296a7e8ecdf",
   "metadata": {},
   "outputs": [],
   "source": [
    "result = pipeline.compute(BackgroundSubtractedIofQ)\n",
    "result"
   ]
  },
  {
   "cell_type": "markdown",
   "id": "601d2a4f-1295-4918-8177-d2dca0b839f9",
   "metadata": {},
   "source": [
    "The result is two-dimensional and we over-plot all the bands onto the same axes:"
   ]
  },
  {
   "cell_type": "code",
   "execution_count": null,
   "id": "d5df969d-79d1-443a-a71b-88faf8b57a37",
   "metadata": {},
   "outputs": [],
   "source": [
    "pp.plot(sc.collapse(result.hist(), keep='Q'), norm='log')"
   ]
  },
  {
   "cell_type": "markdown",
   "id": "0977a3dc-eb5f-4067-80c5-cc19137cc915",
   "metadata": {},
   "source": [
    "## Loading local files\n",
    "\n",
    "The data files used above are hosted on an external server, and downloaded on-the-fly (and cached) when computing the result.\n",
    "\n",
    "It is also possible to load local files from your hard drive, by using the `DataFolder` parameter.\n",
    "We also need to insert the `isis.io.to_path` provider which supplies the file paths to the files in the folder.\n",
    "\n",
    "As an example, we will save our current direct beam to disk, and then re-load it using a pipeline that reads local files.\n",
    "\n",
    "**Note** that is it not currently possible to mix local and cloud files in the same pipeline with the present setup."
   ]
  },
  {
   "cell_type": "code",
   "execution_count": null,
   "id": "871743bf-32d0-4df1-a285-ba722a4198ef",
   "metadata": {},
   "outputs": [],
   "source": [
    "# Direct beam computation currently uses the `get_path` provider which\n",
    "# fetches files from the remote server\n",
    "direct_beam = pipeline.get(DirectBeam)\n",
    "direct_beam.visualize()"
   ]
  },
  {
   "cell_type": "code",
   "execution_count": null,
   "id": "f35f4d14-58f2-437f-826c-b9ac74570e52",
   "metadata": {},
   "outputs": [],
   "source": [
    "# Save the direct beam to disk\n",
    "db_filename = 'my_local_direct_beam_file.h5'\n",
    "direct_beam.compute().save_hdf5(db_filename)"
   ]
  },
  {
   "cell_type": "markdown",
   "id": "8f712a5d-cab9-4878-9b74-5a6c9751e403",
   "metadata": {},
   "source": [
    "We now modify our pipeline by setting the `DataFolder` parameter,\n",
    "as well as our new direct beam filename. Finally, we insert the local file provider `to_path`."
   ]
  },
  {
   "cell_type": "code",
   "execution_count": null,
   "id": "27432974-0f06-4549-8ea5-4f75ff42fbc5",
   "metadata": {},
   "outputs": [],
   "source": [
    "pipeline[DataFolder] = '.'\n",
    "pipeline[DirectBeamFilename] = db_filename\n",
    "\n",
    "# Insert provider for local files\n",
    "pipeline.insert(isis.io.to_path)"
   ]
  },
  {
   "cell_type": "markdown",
   "id": "37be7d9a-92ec-468c-a36e-1c73682b1bda",
   "metadata": {},
   "source": [
    "We can now see that `to_path` uses both the file name and the local folder to create a file path:"
   ]
  },
  {
   "cell_type": "code",
   "execution_count": null,
   "id": "a5647adf-5606-4efa-9e18-2c2943d8250d",
   "metadata": {},
   "outputs": [],
   "source": [
    "db_local = pipeline.get(DirectBeam)\n",
    "db_local.visualize()"
   ]
  },
  {
   "cell_type": "code",
   "execution_count": null,
   "id": "446ef2a3-bf7d-404b-b493-0c65f71c1a03",
   "metadata": {},
   "outputs": [],
   "source": [
    "db_local.compute().plot()"
   ]
  }
 ],
 "metadata": {
  "kernelspec": {
   "display_name": "Python 3 (ipykernel)",
   "language": "python",
   "name": "python3"
  },
  "language_info": {
   "codemirror_mode": {
    "name": "ipython",
    "version": 3
   },
   "file_extension": ".py",
   "mimetype": "text/x-python",
   "name": "python",
   "nbconvert_exporter": "python",
   "pygments_lexer": "ipython3"
  }
 },
 "nbformat": 4,
 "nbformat_minor": 5
}
