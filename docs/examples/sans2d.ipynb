{
 "cells": [
  {
   "cell_type": "markdown",
   "id": "9a935df3-c816-4829-99c3-2afa979b7611",
   "metadata": {},
   "source": [
    "# Sans2d data reduction\n",
    "\n",
    "## Introduction\n",
    "\n",
    "This notebook gives a concise overview of how to use the `esssans` package with Sciline, on the example of the data reduction of a Sans2d experiment.\n",
    "We begin with relevant imports:"
   ]
  },
  {
   "cell_type": "code",
   "execution_count": null,
   "id": "8c7f7cf7-0582-4953-a772-a0f87d1cf0e2",
   "metadata": {
    "tags": []
   },
   "outputs": [],
   "source": [
    "import scipp as sc\n",
    "import sciline\n",
    "import scippneutron as scn\n",
    "import plopp\n",
    "import esssans as sans\n",
    "from esssans.types import *"
   ]
  },
  {
   "cell_type": "markdown",
   "id": "c21564a8-e742-4183-9edc-2c70c51d5863",
   "metadata": {},
   "source": [
    "## Define reduction parameters\n",
    "\n",
    "We define a dictionary containing the reduction parameters, with keys and types given by aliases or types defined in `esssans.types`:"
   ]
  },
  {
   "cell_type": "code",
   "execution_count": null,
   "id": "1468523e",
   "metadata": {},
   "outputs": [],
   "source": [
    "wav_bins = sc.linspace('wavelength', start=2.0, stop=16.0, num=141, unit='angstrom')\n",
    "q_bins = sc.linspace('Q', start=0.01, stop=0.6, num=141, unit='1/angstrom')\n",
    "params = sans.params.setup(wavelength_bins=wav_bins, q_bins=q_bins)\n",
    "params.update(sans.params.sans2d())\n",
    "params[Filename[BackgroundRun]] = 'SANS2D00063159.hdf5'\n",
    "params[Filename[SampleRun]] = 'SANS2D00063114.hdf5'\n",
    "params[Filename[DirectRun]] = 'SANS2D00063091.hdf5'\n",
    "params[DirectBeamFilename] = 'DIRECT_SANS2D_REAR_34327_4m_8mm_16Feb16.hdf5'\n",
    "params[BeamCenter] = sc.vector(value=[0.0945643, -0.082074, 0.0], unit='m')"
   ]
  },
  {
   "cell_type": "markdown",
   "id": "f2c3b542",
   "metadata": {},
   "source": [
    "## Create pipeline using Sciline\n",
    "\n",
    "We use all providers available in `esssans` as well as the `sans2d`-specific providers, which include I/O and mask setup specific to the [Sans2d](https://www.isis.stfc.ac.uk/Pages/sans2d.aspx) instrument:"
   ]
  },
  {
   "cell_type": "code",
   "execution_count": null,
   "id": "17a01c27",
   "metadata": {},
   "outputs": [],
   "source": [
    "providers = sans.providers + sans.sans2d.providers\n",
    "pipeline = sciline.Pipeline(providers, params=params)"
   ]
  },
  {
   "cell_type": "markdown",
   "id": "c19eeaf0",
   "metadata": {},
   "source": [
    "## Use the pipeline\n",
    "\n",
    "### Compute final result\n",
    "\n",
    "We can get the graph for computing the background-subtracted $I(Q)$:"
   ]
  },
  {
   "cell_type": "code",
   "execution_count": null,
   "id": "a48c0f4d",
   "metadata": {},
   "outputs": [],
   "source": [
    "iofq = pipeline.get(BackgroundSubtractedIofQ)"
   ]
  },
  {
   "cell_type": "markdown",
   "id": "07c5c2cb",
   "metadata": {},
   "source": [
    "Before we compute the result, we can visualize the pipeline:"
   ]
  },
  {
   "cell_type": "code",
   "execution_count": null,
   "id": "bc186654",
   "metadata": {},
   "outputs": [],
   "source": [
    "# left-right layout works better for this graph\n",
    "iofq.visualize(graph_attr={'rankdir': 'LR'})"
   ]
  },
  {
   "cell_type": "markdown",
   "id": "505f26fc",
   "metadata": {},
   "source": [
    "Now we can compute the result:"
   ]
  },
  {
   "cell_type": "code",
   "execution_count": null,
   "id": "c8cf57ce",
   "metadata": {},
   "outputs": [],
   "source": [
    "result = iofq.compute()\n",
    "result.plot()"
   ]
  },
  {
   "cell_type": "markdown",
   "id": "2359dd3d",
   "metadata": {},
   "source": [
    "In the above we used an upper bound for the uncertainties of the normalization factors.\n",
    "We can also compute the result with dropped normalization-factor uncertainties.\n",
    "This is incorrect, but is useful for understanding whether the normalization factors significantly contribute to the uncertainty of the result:"
   ]
  },
  {
   "cell_type": "code",
   "execution_count": null,
   "id": "6a8e0b6b",
   "metadata": {},
   "outputs": [],
   "source": [
    "params[UncertaintyBroadcastMode] = UncertaintyBroadcastMode.drop\n",
    "pipeline_drop = sciline.Pipeline(providers, params=params)\n",
    "result_drop = pipeline_drop.compute(BackgroundSubtractedIofQ)\n",
    "sc.DataGroup(upper_bound=result, dropped=result_drop).plot(norm='log')"
   ]
  },
  {
   "cell_type": "markdown",
   "id": "f39206c6",
   "metadata": {},
   "source": [
    "### Compute intermediate results\n",
    "\n",
    "For inspection and debugging purposes we can also compute intermediate results.\n",
    "To avoid repeated computation (including costly loading of files) we can request multiple results at once, including the final result, if desired.\n",
    "For example:"
   ]
  },
  {
   "cell_type": "code",
   "execution_count": null,
   "id": "bb922379",
   "metadata": {},
   "outputs": [],
   "source": [
    "monitors = (\n",
    "    WavelengthMonitor[SampleRun, Incident],\n",
    "    WavelengthMonitor[SampleRun, Transmission],\n",
    "    WavelengthMonitor[BackgroundRun, Incident],\n",
    "    WavelengthMonitor[BackgroundRun, Transmission],\n",
    ")\n",
    "parts = (CleanSummedQ[SampleRun, Numerator], CleanSummedQ[SampleRun, Denominator])\n",
    "iofqs = (IofQ[SampleRun], IofQ[BackgroundRun], BackgroundSubtractedIofQ)\n",
    "keys = monitors + (MaskedData[SampleRun],) + parts + iofqs\n",
    "\n",
    "results = pipeline.compute(keys)\n",
    "\n",
    "display(sc.plot({str(key): results[key] for key in monitors}, norm='log'))\n",
    "\n",
    "display(\n",
    "    scn.instrument_view(\n",
    "        results[MaskedData[SampleRun]].hist(),\n",
    "        pixel_size=0.0075,\n",
    "        norm='log',\n",
    "        camera=plopp.graphics.Camera(position=(0, 0, 22)),\n",
    "    )\n",
    ")\n",
    "\n",
    "parts = {str(key): results[key] for key in parts}\n",
    "parts = {key: val if val.bins is None else val.hist() for key, val in parts.items()}\n",
    "display(sc.plot(parts, norm='log'))\n",
    "\n",
    "iofqs = {str(key): results[key] for key in iofqs}\n",
    "iofqs = {key: val if val.bins is None else val.hist() for key, val in iofqs.items()}\n",
    "display(sc.plot(iofqs, norm='log'))"
   ]
  },
  {
   "cell_type": "markdown",
   "id": "372b8d4f",
   "metadata": {},
   "source": [
    "### Avoiding duplicate computation with parameter tables\n",
    "\n",
    "We have seen above that Sciline can avoid duplicate computation by requesting multiple results.\n",
    "However, this is not always possible, for example if we want to compute the final result with different parameters.\n",
    "In this case we can use parameter tables to avoid duplicate computation.\n",
    "For example, we can compute the final result with different values for handling the uncertainties of the normalization factors.\n",
    "This will avoid repeating loading files as well as some computation steps:"
   ]
  },
  {
   "cell_type": "code",
   "execution_count": null,
   "id": "ceb079ee",
   "metadata": {},
   "outputs": [],
   "source": [
    "from typing import NewType\n",
    "\n",
    "Mode = NewType('Mode', str)\n",
    "param_table = sciline.ParamTable(\n",
    "    Mode,\n",
    "    {\n",
    "        UncertaintyBroadcastMode: [\n",
    "            UncertaintyBroadcastMode.upper_bound,\n",
    "            UncertaintyBroadcastMode.drop,\n",
    "        ]\n",
    "    },\n",
    "    index=[Mode('upper_bound'), Mode('drop')],\n",
    ")\n",
    "del params[UncertaintyBroadcastMode]\n",
    "pl = sciline.Pipeline(providers, params=params)\n",
    "pl.set_param_table(param_table)\n",
    "results = pl.compute(sciline.Series[Mode, BackgroundSubtractedIofQ])\n",
    "sc.DataGroup(results).plot(norm='log')"
   ]
  }
 ],
 "metadata": {
  "kernelspec": {
   "display_name": "Python 3 (ipykernel)",
   "language": "python",
   "name": "python3"
  },
  "language_info": {
   "codemirror_mode": {
    "name": "ipython",
    "version": 3
   },
   "file_extension": ".py",
   "mimetype": "text/x-python",
   "name": "python",
   "nbconvert_exporter": "python",
   "pygments_lexer": "ipython3",
   "version": "3.10.12"
  }
 },
 "nbformat": 4,
 "nbformat_minor": 5
}
