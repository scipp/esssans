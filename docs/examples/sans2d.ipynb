{
 "cells": [
  {
   "cell_type": "markdown",
   "id": "9a935df3-c816-4829-99c3-2afa979b7611",
   "metadata": {},
   "source": [
    "# Sans2d data reduction\n",
    "\n",
    "## Introduction\n",
    "\n",
    "This notebook gives a concise overview of how to use the `esssans` package with Sciline, on the example of the data reduction of a Sans2d experiment.\n",
    "We begin with relevant imports:"
   ]
  },
  {
   "cell_type": "code",
   "execution_count": null,
   "id": "8c7f7cf7-0582-4953-a772-a0f87d1cf0e2",
   "metadata": {
    "tags": []
   },
   "outputs": [],
   "source": [
    "import numpy as np\n",
    "import scipp as sc\n",
    "import sciline\n",
    "import scippneutron as scn\n",
    "import plopp as pp\n",
    "import esssans as sans\n",
    "from esssans.types import *"
   ]
  },
  {
   "cell_type": "markdown",
   "id": "c21564a8-e742-4183-9edc-2c70c51d5863",
   "metadata": {},
   "source": [
    "## Define reduction parameters\n",
    "\n",
    "We define a dictionary containing the reduction parameters, with keys and types given by aliases or types defined in `esssans.types`:"
   ]
  },
  {
   "cell_type": "code",
   "execution_count": null,
   "id": "bc2fffe1-a694-43b7-9234-e31da42d6df3",
   "metadata": {
    "tags": []
   },
   "outputs": [],
   "source": [
    "params = sans.sans2d.default_parameters.copy()\n",
    "\n",
    "params[FileList[BackgroundRun]] = ['SANS2D00063159.hdf5']\n",
    "params[FileList[TransmissionRun[BackgroundRun]]] = params[FileList[BackgroundRun]]\n",
    "params[FileList[SampleRun]] = ['SANS2D00063114.hdf5']\n",
    "params[FileList[TransmissionRun[SampleRun]]] = params[FileList[SampleRun]]\n",
    "params[FileList[EmptyBeamRun]] = ['SANS2D00063091.hdf5']\n",
    "params[DirectBeamFilename] = 'DIRECT_SANS2D_REAR_34327_4m_8mm_16Feb16.hdf5'\n",
    "params[OutFilename] = 'reduced.nxs'\n",
    "\n",
    "band = sc.linspace('wavelength', 2.0, 16.0, num=2, unit='angstrom')\n",
    "params[WavelengthBands] = band\n",
    "params[WavelengthBins] = sc.linspace(\n",
    "    'wavelength', start=band[0], stop=band[-1], num=141\n",
    ")\n",
    "\n",
    "params[sans.sans2d.LowCountThreshold] = sc.scalar(100, unit='counts')\n",
    "\n",
    "mask_interval = sc.array(dims=['wavelength'], values=[2.21, 2.59], unit='angstrom')\n",
    "params[WavelengthMask] = sc.DataArray(\n",
    "    sc.array(dims=['wavelength'], values=[True]),\n",
    "    coords={'wavelength': mask_interval},\n",
    ")\n",
    "\n",
    "params[QBins] = sc.linspace(dim='Q', start=0.01, stop=0.6, num=141, unit='1/angstrom')\n",
    "params[NonBackgroundWavelengthRange] = sc.array(\n",
    "    dims=['wavelength'], values=[0.7, 17.1], unit='angstrom'\n",
    ")\n",
    "params[CorrectForGravity] = True\n",
    "params[UncertaintyBroadcastMode] = UncertaintyBroadcastMode.upper_bound"
   ]
  },
  {
   "cell_type": "markdown",
   "id": "f2c3b542",
   "metadata": {},
   "source": [
    "## Create pipeline using Sciline\n",
    "\n",
    "We use all providers available in `esssans` as well as the `sans2d`-specific providers, which include I/O and mask setup specific to the [Sans2d](https://www.isis.stfc.ac.uk/Pages/sans2d.aspx) instrument:"
   ]
  },
  {
   "cell_type": "code",
   "execution_count": null,
   "id": "17a01c27",
   "metadata": {},
   "outputs": [],
   "source": [
    "providers = sans.providers + sans.sans2d.providers\n",
    "pipeline = sciline.Pipeline(providers, params=params)"
   ]
  },
  {
   "cell_type": "markdown",
   "id": "c19eeaf0",
   "metadata": {},
   "source": [
    "## Use the pipeline\n",
    "\n",
    "### Compute final result\n",
    "\n",
    "We can get the graph for computing the background-subtracted $I(Q)$:"
   ]
  },
  {
   "cell_type": "code",
   "execution_count": null,
   "id": "a48c0f4d",
   "metadata": {},
   "outputs": [],
   "source": [
    "iofq = pipeline.get(BackgroundSubtractedIofQ)"
   ]
  },
  {
   "cell_type": "markdown",
   "id": "07c5c2cb",
   "metadata": {},
   "source": [
    "Before we compute the result, we can visualize the pipeline:"
   ]
  },
  {
   "cell_type": "code",
   "execution_count": null,
   "id": "bc186654",
   "metadata": {},
   "outputs": [],
   "source": [
    "# left-right layout works better for this graph\n",
    "iofq.visualize(graph_attr={'rankdir': 'LR'})"
   ]
  },
  {
   "cell_type": "markdown",
   "id": "505f26fc",
   "metadata": {},
   "source": [
    "Now we can compute the result:"
   ]
  },
  {
   "cell_type": "code",
   "execution_count": null,
   "id": "c8cf57ce",
   "metadata": {},
   "outputs": [],
   "source": [
    "result = iofq.compute()\n",
    "result.plot()"
   ]
  },
  {
   "cell_type": "markdown",
   "id": "2359dd3d",
   "metadata": {},
   "source": [
    "In the above we used an upper bound for the uncertainties of the normalization factors.\n",
    "We can also compute the result with dropped normalization-factor uncertainties.\n",
    "This is incorrect, but is useful for understanding whether the normalization factors significantly contribute to the uncertainty of the result:"
   ]
  },
  {
   "cell_type": "code",
   "execution_count": null,
   "id": "6a8e0b6b",
   "metadata": {},
   "outputs": [],
   "source": [
    "params[UncertaintyBroadcastMode] = UncertaintyBroadcastMode.drop\n",
    "pipeline_drop = sciline.Pipeline(providers, params=params)\n",
    "result_drop = pipeline_drop.compute(BackgroundSubtractedIofQ)\n",
    "sc.DataGroup(upper_bound=result, dropped=result_drop).plot(norm='log')"
   ]
  },
  {
   "cell_type": "markdown",
   "id": "53ce1e48-b8a9-475a-b0ec-9ad204541543",
   "metadata": {},
   "source": [
    "### Save reduced data to file\n",
    "\n",
    "`esssans` provides a function for saving the reduced data as an [NXcanSAS](https://manual.nexusformat.org/classes/applications/NXcanSAS.html) file.\n",
    "It could be used directly with the `result` computed above, but we would have to provide the required metadata ourselves.\n",
    "Instead, we use Sciline to get all required information directly from the pipeline: (See also the [File output](https://scipp.github.io/sciline/recipes/recipes.html#File-output) docs.)"
   ]
  },
  {
   "cell_type": "code",
   "execution_count": null,
   "id": "b83c7580-fba7-43d8-b9d0-1aeeebbe0301",
   "metadata": {},
   "outputs": [],
   "source": [
    "from esssans.io import save_background_subtracted_iofq\n",
    "\n",
    "pipeline.bind_and_call(save_background_subtracted_iofq)"
   ]
  },
  {
   "cell_type": "markdown",
   "id": "f39206c6",
   "metadata": {},
   "source": [
    "### Compute intermediate results\n",
    "\n",
    "For inspection and debugging purposes we can also compute intermediate results.\n",
    "To avoid repeated computation (including costly loading of files) we can request multiple results at once, including the final result, if desired.\n",
    "For example:"
   ]
  },
  {
   "cell_type": "code",
   "execution_count": null,
   "id": "bb922379",
   "metadata": {},
   "outputs": [],
   "source": [
    "monitors = (\n",
    "    WavelengthMonitor[SampleRun, Incident],\n",
    "    WavelengthMonitor[SampleRun, Transmission],\n",
    "    WavelengthMonitor[BackgroundRun, Incident],\n",
    "    WavelengthMonitor[BackgroundRun, Transmission],\n",
    ")\n",
    "parts = (CleanSummedQ[SampleRun, Numerator], CleanSummedQ[SampleRun, Denominator])\n",
    "iofqs = (IofQ[SampleRun], IofQ[BackgroundRun], BackgroundSubtractedIofQ)\n",
    "keys = monitors + (MaskedData[SampleRun],) + parts + iofqs\n",
    "\n",
    "results = pipeline.compute(keys)\n",
    "\n",
    "display(sc.plot({str(key): results[key] for key in monitors}, norm='log'))\n",
    "\n",
    "display(\n",
    "    scn.instrument_view(\n",
    "        results[MaskedData[SampleRun]].hist(),\n",
    "        pixel_size=0.0075,\n",
    "        norm='log',\n",
    "        camera=pp.graphics.Camera(position=(0, 0, 22)),\n",
    "    )\n",
    ")\n",
    "\n",
    "parts = {str(key): results[key] for key in parts}\n",
    "parts = {key: val if val.bins is None else val.hist() for key, val in parts.items()}\n",
    "display(sc.plot(parts, norm='log'))\n",
    "\n",
    "iofqs = {str(key): results[key] for key in iofqs}\n",
    "iofqs = {key: val if val.bins is None else val.hist() for key, val in iofqs.items()}\n",
    "display(sc.plot(iofqs, norm='log'))"
   ]
  },
  {
   "cell_type": "markdown",
   "id": "372b8d4f",
   "metadata": {},
   "source": [
    "### Avoiding duplicate computation with parameter tables\n",
    "\n",
    "We have seen above that Sciline can avoid duplicate computation by requesting multiple results.\n",
    "However, this is not always possible, for example if we want to compute the final result with different parameters.\n",
    "In this case we can use parameter tables to avoid duplicate computation.\n",
    "For example, we can compute the final result with different values for handling the uncertainties of the normalization factors.\n",
    "This will avoid repeating loading files as well as some computation steps:"
   ]
  },
  {
   "cell_type": "code",
   "execution_count": null,
   "id": "ceb079ee",
   "metadata": {},
   "outputs": [],
   "source": [
    "from typing import NewType\n",
    "\n",
    "Mode = NewType('Mode', str)\n",
    "param_table = sciline.ParamTable(\n",
    "    Mode,\n",
    "    {\n",
    "        UncertaintyBroadcastMode: [\n",
    "            UncertaintyBroadcastMode.upper_bound,\n",
    "            UncertaintyBroadcastMode.drop,\n",
    "        ]\n",
    "    },\n",
    "    index=[Mode('upper_bound'), Mode('drop')],\n",
    ")\n",
    "del params[UncertaintyBroadcastMode]\n",
    "pl = sciline.Pipeline(providers, params=params)\n",
    "pl.set_param_table(param_table)\n",
    "results = pl.compute(sciline.Series[Mode, BackgroundSubtractedIofQ])\n",
    "sc.DataGroup(results).plot(norm='log')"
   ]
  },
  {
   "cell_type": "markdown",
   "id": "94062d33-04cb-4a4d-aef1-e5ec58c228c4",
   "metadata": {},
   "source": [
    "## Wavelength bands\n",
    "\n",
    "We can also compute $I(Q)$ inside a set of wavelength bands, instead of using the full wavelength range in one go.\n",
    "This is useful for debugging purposes.\n",
    "\n",
    "To achieve this, we need to turn the `WavelengthBands` parameter into a two-dimensional variable,\n",
    "representing the wavelength range for each band."
   ]
  },
  {
   "cell_type": "code",
   "execution_count": null,
   "id": "27068e8a-350f-4ea4-b4a4-2b13926905b5",
   "metadata": {},
   "outputs": [],
   "source": [
    "band = np.linspace(2.0, 16.0, num=11)\n",
    "params[WavelengthBands] = sc.array(\n",
    "    dims=['band', 'wavelength'],\n",
    "    values=np.vstack([band[:-1], band[1:]]).T,\n",
    "    unit='angstrom',\n",
    ")"
   ]
  },
  {
   "cell_type": "markdown",
   "id": "84bce96e-e1f2-4a77-80ac-a926d3797020",
   "metadata": {},
   "source": [
    "We then need to re-build the pipeline with the updated parameters"
   ]
  },
  {
   "cell_type": "code",
   "execution_count": null,
   "id": "b512a676-4875-47bc-9ac9-afcbf45c631a",
   "metadata": {},
   "outputs": [],
   "source": [
    "# Re-add the deleted param\n",
    "params[UncertaintyBroadcastMode] = UncertaintyBroadcastMode.upper_bound\n",
    "\n",
    "pipeline = sciline.Pipeline(providers, params=params)"
   ]
  },
  {
   "cell_type": "markdown",
   "id": "cc3cac02-2cb4-4da5-a83d-8e6fb3d2c929",
   "metadata": {},
   "source": [
    "and compute the result"
   ]
  },
  {
   "cell_type": "code",
   "execution_count": null,
   "id": "6bd670f9-85db-4257-ab67-e296a7e8ecdf",
   "metadata": {},
   "outputs": [],
   "source": [
    "result = pipeline.compute(BackgroundSubtractedIofQ)\n",
    "result"
   ]
  },
  {
   "cell_type": "markdown",
   "id": "601d2a4f-1295-4918-8177-d2dca0b839f9",
   "metadata": {},
   "source": [
    "The result is two-dimensional and we over-plot all the bands onto the same axes:"
   ]
  },
  {
   "cell_type": "code",
   "execution_count": null,
   "id": "d5df969d-79d1-443a-a71b-88faf8b57a37",
   "metadata": {},
   "outputs": [],
   "source": [
    "pp.plot(sc.collapse(result, keep='Q'), norm='log')"
   ]
  }
 ],
 "metadata": {
  "kernelspec": {
   "display_name": "Python 3 (ipykernel)",
   "language": "python",
   "name": "python3"
  },
  "language_info": {
   "codemirror_mode": {
    "name": "ipython",
    "version": 3
   },
   "file_extension": ".py",
   "mimetype": "text/x-python",
   "name": "python",
   "nbconvert_exporter": "python",
   "pygments_lexer": "ipython3"
  }
 },
 "nbformat": 4,
 "nbformat_minor": 5
}
