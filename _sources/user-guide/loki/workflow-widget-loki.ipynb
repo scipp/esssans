{
 "cells": [
  {
   "cell_type": "markdown",
   "id": "0",
   "metadata": {},
   "source": [
    "# Workflow widgets example\n",
    "\n",
    "This notebook illustrates how we can use `essreduce`'s [workflow widgets](https://scipp.github.io/essreduce/user-guide/widget.html)\n",
    "to generate a graphical interface for running the LoKI tutorial workflow.\n",
    "\n",
    "## Initializing the GUI\n",
    "\n",
    "It is as simple as importing the loki submodule and generating a GUI using `workflow_widget`\n",
    "(the workflow automatically registers itself to a library of workflows when imported)."
   ]
  },
  {
   "cell_type": "code",
   "execution_count": null,
   "id": "1",
   "metadata": {},
   "outputs": [],
   "source": [
    "# Import loki submodule to register workflow\n",
    "from ess import loki  # noqa: F401\n",
    "from ess.reduce import ui\n",
    "\n",
    "# Prepare a container for accessing the results computed by the GUI\n",
    "results = {}\n",
    "\n",
    "# Initialize the GUI widget\n",
    "widget = ui.workflow_widget(result_registry=results)\n",
    "widget"
   ]
  },
  {
   "cell_type": "code",
   "execution_count": null,
   "id": "2",
   "metadata": {
    "nbsphinx": "hidden"
   },
   "outputs": [],
   "source": [
    "from ess.sans.types import DirectBeam, QBins\n",
    "\n",
    "select = widget.children[0].children[0]\n",
    "keys, values = zip(*select.options, strict=True)\n",
    "ind = keys.index(\"LokiAtLarmorTutorialWorkflow\")\n",
    "select.value = values[ind]\n",
    "# Select IofQ[SampleRun] output\n",
    "wfw = widget.children[1].children[0]\n",
    "outputs = wfw.output_selection_box.typical_outputs_widget\n",
    "keys, values = zip(*outputs.options, strict=True)\n",
    "ind = keys.index(\"IofQ[SampleRun]\")\n",
    "outputs.value = (values[ind],)\n",
    "# Refresh parameters\n",
    "pbox = wfw.parameter_box\n",
    "pbox.parameter_refresh_button.click()\n",
    "# Enable DirectBeam input\n",
    "pbox._input_widgets[DirectBeam].children[0].value = True\n",
    "pbox._input_widgets[DirectBeam].children[1].children[1]._option_box.value = None\n",
    "# Adjust Q range\n",
    "pbox._input_widgets[QBins].fields[\"start\"].value = 0.01\n",
    "# Run the workflow\n",
    "rbox = wfw.result_box\n",
    "rbox.run_button.click()"
   ]
  },
  {
   "cell_type": "markdown",
   "id": "3",
   "metadata": {},
   "source": [
    "## Accessing the results\n",
    "\n",
    "We can now access the computed result in the `results` dictionary:"
   ]
  },
  {
   "cell_type": "code",
   "execution_count": null,
   "id": "4",
   "metadata": {},
   "outputs": [],
   "source": [
    "results"
   ]
  },
  {
   "cell_type": "markdown",
   "id": "5",
   "metadata": {},
   "source": [
    "The result can be plotted using"
   ]
  },
  {
   "cell_type": "code",
   "execution_count": null,
   "id": "6",
   "metadata": {},
   "outputs": [],
   "source": [
    "(da,) = results.values()\n",
    "da.plot(norm=\"log\")"
   ]
  }
 ],
 "metadata": {
  "kernelspec": {
   "display_name": "Python 3 (ipykernel)",
   "language": "python",
   "name": "python3"
  },
  "language_info": {
   "codemirror_mode": {
    "name": "ipython",
    "version": 3
   },
   "file_extension": ".py",
   "mimetype": "text/x-python",
   "name": "python",
   "nbconvert_exporter": "python",
   "pygments_lexer": "ipython3"
  }
 },
 "nbformat": 4,
 "nbformat_minor": 5
}
