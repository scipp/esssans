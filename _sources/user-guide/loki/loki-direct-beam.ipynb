{
 "cells": [
  {
   "cell_type": "markdown",
   "id": "0",
   "metadata": {},
   "source": [
    "# Direct beam iterations for LoKI\n",
    "\n",
    "## Introduction\n",
    "\n",
    "This notebook is used to compute the direct beam function for the [LoKI](https://europeanspallationsource.se/instruments/loki) detectors.\n",
    "It uses data recorded during the detector test at the Larmor instrument.\n",
    "\n",
    "**Description of the procedure:**\n",
    "\n",
    "The idea behind the direct beam iterations is to determine an efficiency of the detectors as a function of wavelength.\n",
    "To calculate this, it is possible to compute $I(Q)$ for the full wavelength range, and for individual slices (bands) of the wavelength range.\n",
    "If the direct beam function used in the $I(Q)$ computation is correct, then $I(Q)$ curves for the full wavelength range and inside the bands should overlap.\n",
    "\n",
    "In the following notebook, we will:\n",
    "\n",
    "1. Create a workflow to compute $I(Q)$ inside a set of wavelength bands (the number of wavelength bands will be the number of data points in the final direct beam function)\n",
    "1. Create a flat direct beam function, as a function of wavelength, with wavelength bins corresponding to the wavelength bands\n",
    "1. Calculate inside each band by how much one would have to multiply the final $I(Q)$ so that the curve would overlap with the full-range curve\n",
    "   (we compute the full-range data by making a copy of the workflow but setting only a single wavelength band that contains all wavelengths)\n",
    "1. Multiply the direct beam values inside each wavelength band by this factor\n",
    "1. Compare the full-range $I(Q)$ to a theoretical reference and add the corresponding additional scaling to the direct beam function\n",
    "1. Iterate until the changes to the direct beam function become small"
   ]
  },
  {
   "cell_type": "code",
   "execution_count": null,
   "id": "1",
   "metadata": {
    "tags": []
   },
   "outputs": [],
   "source": [
    "import scipp as sc\n",
    "import plopp as pp\n",
    "from ess import sans\n",
    "from ess import loki\n",
    "import ess.loki.data  # noqa: F401\n",
    "from ess.sans.types import *"
   ]
  },
  {
   "cell_type": "markdown",
   "id": "2",
   "metadata": {},
   "source": [
    "## Create and configure the workflow\n",
    "\n",
    "We begin by creating the Loki workflow object (this is a [sciline.Pipeline](https://scipp.github.io/sciline/generated/classes/sciline.Pipeline.html) which can be consulted for advanced usage).\n",
    "The files we use here come from a Loki detector test at Larmor, so we use the corresponding workflow:"
   ]
  },
  {
   "cell_type": "code",
   "execution_count": null,
   "id": "3",
   "metadata": {},
   "outputs": [],
   "source": [
    "workflow = loki.LokiAtLarmorWorkflow()"
   ]
  },
  {
   "cell_type": "markdown",
   "id": "4",
   "metadata": {},
   "source": [
    "We configure the workflow be defining the series of masks filenames and bank names to reduce.\n",
    "In this case there is just a single bank:"
   ]
  },
  {
   "cell_type": "code",
   "execution_count": null,
   "id": "5",
   "metadata": {},
   "outputs": [],
   "source": [
    "workflow = sans.with_pixel_mask_filenames(\n",
    "    workflow, masks=loki.data.loki_tutorial_mask_filenames()\n",
    ")\n",
    "workflow[NeXusDetectorName] = 'larmor_detector'"
   ]
  },
  {
   "cell_type": "markdown",
   "id": "6",
   "metadata": {},
   "source": [
    "The workflow can be visualized as a graph.\n",
    "For readability we show only sub-workflow for computing `IofQ[Sample]`.\n",
    "The workflow can actually compute the full `BackgroundSubtractedIofQ`, which applies and equivalent workflow to the background run, before a subtraction step:"
   ]
  },
  {
   "cell_type": "code",
   "execution_count": null,
   "id": "7",
   "metadata": {},
   "outputs": [],
   "source": [
    "workflow.visualize(IofQ[SampleRun], compact=True, graph_attr={'rankdir': 'LR'})"
   ]
  },
  {
   "cell_type": "markdown",
   "id": "8",
   "metadata": {},
   "source": [
    "Note the red boxes which indicate missing input parameters.\n",
    "We can set these missing parameters, as well as parameters where we do not want to use the defaults:"
   ]
  },
  {
   "cell_type": "code",
   "execution_count": null,
   "id": "9",
   "metadata": {},
   "outputs": [],
   "source": [
    "# Wavelength binning parameters\n",
    "wavelength_min = sc.scalar(1.0, unit='angstrom')\n",
    "wavelength_max = sc.scalar(13.0, unit='angstrom')\n",
    "n_wavelength_bins = 50\n",
    "n_wavelength_bands = 50\n",
    "\n",
    "workflow[WavelengthBins] = sc.linspace(\n",
    "    'wavelength', wavelength_min, wavelength_max, n_wavelength_bins + 1\n",
    ")\n",
    "workflow[WavelengthBands] = sc.linspace(\n",
    "    'wavelength', wavelength_min, wavelength_max, n_wavelength_bands + 1\n",
    ")\n",
    "\n",
    "\n",
    "workflow[CorrectForGravity] = True\n",
    "workflow[UncertaintyBroadcastMode] = UncertaintyBroadcastMode.upper_bound\n",
    "workflow[ReturnEvents] = False\n",
    "\n",
    "workflow[QBins] = sc.linspace(dim='Q', start=0.01, stop=0.3, num=101, unit='1/angstrom')"
   ]
  },
  {
   "cell_type": "markdown",
   "id": "10",
   "metadata": {},
   "source": [
    "## Configuring data to load\n",
    "\n",
    "We have not configured which files we want to load.\n",
    "In this tutorial, we use helpers to fetch the tutorial data which return the filenames of the cached files.\n",
    "In a real use case, you would set these parameters manually:"
   ]
  },
  {
   "cell_type": "code",
   "execution_count": null,
   "id": "11",
   "metadata": {},
   "outputs": [],
   "source": [
    "workflow[Filename[SampleRun]] = loki.data.loki_tutorial_sample_run_60339()\n",
    "workflow[Filename[BackgroundRun]] = loki.data.loki_tutorial_background_run_60393()\n",
    "workflow[Filename[TransmissionRun[SampleRun]]] = (\n",
    "    loki.data.loki_tutorial_sample_transmission_run()\n",
    ")\n",
    "workflow[Filename[TransmissionRun[BackgroundRun]]] = loki.data.loki_tutorial_run_60392()\n",
    "workflow[Filename[EmptyBeamRun]] = loki.data.loki_tutorial_run_60392()"
   ]
  },
  {
   "cell_type": "markdown",
   "id": "12",
   "metadata": {},
   "source": [
    "## Finding the beam center\n",
    "\n",
    "Looking carefully at the workflow above,\n",
    "one will notice that there is a missing parameter from the workflow: the red box that contains the `BeamCenter` type.\n",
    "Before we can proceed with computing the direct beam function,\n",
    "we therefore have to first determine the center of the beam.\n",
    "\n",
    "There are more details on how this is done in the [beam center finder notebook](../common/beam-center-finder.ipynb),\n",
    "but for now we simply reuse the workflow (by making a copy),\n",
    "and inserting the provider that will compute the beam center.\n",
    "\n",
    "For now, we compute the beam center only for the rear detector (named 'larmor_detector') but apply it to all banks (currently there is only one bank).\n",
    "The beam center may need to be computed or applied differently to each bank, see [scipp/esssans#28](https://github.com/scipp/esssans/issues/28).\n",
    "We use a center-of-mass approach to find the beam center:"
   ]
  },
  {
   "cell_type": "code",
   "execution_count": null,
   "id": "13",
   "metadata": {},
   "outputs": [],
   "source": [
    "center = sans.beam_center_from_center_of_mass(workflow)\n",
    "center"
   ]
  },
  {
   "cell_type": "markdown",
   "id": "14",
   "metadata": {},
   "source": [
    "and set that value in our workflow"
   ]
  },
  {
   "cell_type": "code",
   "execution_count": null,
   "id": "15",
   "metadata": {},
   "outputs": [],
   "source": [
    "workflow[BeamCenter] = center"
   ]
  },
  {
   "cell_type": "markdown",
   "id": "16",
   "metadata": {},
   "source": [
    "## Expected intensity at zero Q\n",
    "\n",
    "The sample used in the experiment has a known $I(Q)$ profile,\n",
    "and we need it to calibrate the absolute intensity of our $I(Q)$ results\n",
    "(relative differences between wavelength band and full-range results are not sufficient).\n",
    "\n",
    "We load this theoretical reference curve, and compute the $I_{0}$ intensity at the lower $Q$ bound of the range covered by the instrument."
   ]
  },
  {
   "cell_type": "code",
   "execution_count": null,
   "id": "17",
   "metadata": {},
   "outputs": [],
   "source": [
    "from scipp.scipy.interpolate import interp1d\n",
    "\n",
    "Iq_theory = sc.io.load_hdf5(loki.data.loki_tutorial_poly_gauss_I0())\n",
    "f = interp1d(Iq_theory, 'Q')\n",
    "I0 = f(sc.midpoints(workflow.compute(QBins))).data[0]\n",
    "I0"
   ]
  },
  {
   "cell_type": "markdown",
   "id": "18",
   "metadata": {},
   "source": [
    "## A single direct beam function for all layers\n",
    "\n",
    "As a first pass, we compute a single direct beam function for all the detector pixels combined.\n",
    "\n",
    "We compute the $I(Q)$ inside the wavelength bands and the full wavelength range,\n",
    "derive a direct beam factor per wavelength band,\n",
    "and also add absolute scaling using the reference $I_{0}$ value"
   ]
  },
  {
   "cell_type": "code",
   "execution_count": null,
   "id": "19",
   "metadata": {},
   "outputs": [],
   "source": [
    "results = sans.direct_beam(workflow=workflow, I0=I0, niter=6)\n",
    "# Unpack the final result\n",
    "iofq_full = results[-1]['iofq_full']\n",
    "iofq_bands = results[-1]['iofq_bands']\n",
    "direct_beam_function = results[-1]['direct_beam']"
   ]
  },
  {
   "cell_type": "markdown",
   "id": "20",
   "metadata": {},
   "source": [
    "We now compare the $I(Q)$ curves in each wavelength band to the one for the full wavelength range (black)."
   ]
  },
  {
   "cell_type": "code",
   "execution_count": null,
   "id": "21",
   "metadata": {},
   "outputs": [],
   "source": [
    "pp.plot(\n",
    "    {**sc.collapse(iofq_bands, keep='Q'), **{'full': iofq_full}},\n",
    "    norm='log',\n",
    "    color={'full': 'k'},\n",
    "    legend=False,\n",
    ")"
   ]
  },
  {
   "cell_type": "markdown",
   "id": "22",
   "metadata": {},
   "source": [
    "The overlap is satisfactory, and we can now inspect the direct beam function we have computed:"
   ]
  },
  {
   "cell_type": "code",
   "execution_count": null,
   "id": "23",
   "metadata": {},
   "outputs": [],
   "source": [
    "direct_beam_function.plot(vmax=1)"
   ]
  },
  {
   "cell_type": "markdown",
   "id": "24",
   "metadata": {},
   "source": [
    "Finally, as a sanity check, we compare our final $I(Q)$ for the full wavelength range to the theoretical reference:"
   ]
  },
  {
   "cell_type": "code",
   "execution_count": null,
   "id": "25",
   "metadata": {},
   "outputs": [],
   "source": [
    "pp.plot(\n",
    "    {'reference': Iq_theory, 'data': iofq_full},\n",
    "    color={'reference': 'darkgrey', 'data': 'C0'},\n",
    "    norm='log',\n",
    ")"
   ]
  },
  {
   "cell_type": "markdown",
   "id": "26",
   "metadata": {},
   "source": [
    "## Direct beam function per layer\n",
    "\n",
    "The LoKI detector tubes are arranged in layers along the beam path,\n",
    "where the layers closest to the sample will receive most of the scattered neutrons,\n",
    "while occulting the layers behind them.\n",
    "\n",
    "A refinement to the above procedure is to compute a direct beam function for each layer of tubes individually.\n",
    "We also use the 4 thick layers of tubes, but in principle,\n",
    "this could also be done for 28 different layers (made from the `layer` and `straw` dimensions) if a run with enough events is provided (or many runs are combined together).\n",
    "\n",
    "The only other difference compared to the computation above is that we now want our final result to preserve the `'layer'` dimension,\n",
    "so that the dimensions of our result are `['layer', 'Q']`."
   ]
  },
  {
   "cell_type": "code",
   "execution_count": null,
   "id": "27",
   "metadata": {},
   "outputs": [],
   "source": [
    "workflow[DimsToKeep] = ['layer']"
   ]
  },
  {
   "cell_type": "markdown",
   "id": "28",
   "metadata": {},
   "source": [
    "Now we are able to run the direct-beam iterations on a per-layer basis:"
   ]
  },
  {
   "cell_type": "code",
   "execution_count": null,
   "id": "29",
   "metadata": {},
   "outputs": [],
   "source": [
    "results_layers = sans.direct_beam(workflow=workflow, I0=I0, niter=6)\n",
    "# Unpack the final result\n",
    "iofq_full_layers = results_layers[-1]['iofq_full']\n",
    "iofq_bands_layers = results_layers[-1]['iofq_bands']\n",
    "direct_beam_function_layers = results_layers[-1]['direct_beam']"
   ]
  },
  {
   "cell_type": "markdown",
   "id": "30",
   "metadata": {},
   "source": [
    "We can now inspect the wavelength slices for the 4 layers."
   ]
  },
  {
   "cell_type": "code",
   "execution_count": null,
   "id": "31",
   "metadata": {},
   "outputs": [],
   "source": [
    "plots = [\n",
    "    pp.plot(\n",
    "        {\n",
    "            **sc.collapse(iofq_bands_layers['layer', i], keep='Q'),\n",
    "            **{'full': iofq_full_layers['layer', i]},\n",
    "        },\n",
    "        norm='log',\n",
    "        color={'full': 'k'},\n",
    "        legend=False,\n",
    "        title=f'Layer {i}',\n",
    "    )\n",
    "    for i in range(4)\n",
    "]\n",
    "\n",
    "(plots[0] + plots[1]) / (plots[2] + plots[3])"
   ]
  },
  {
   "cell_type": "markdown",
   "id": "32",
   "metadata": {},
   "source": [
    "Now the direct beam function inside each layer looks like:"
   ]
  },
  {
   "cell_type": "code",
   "execution_count": null,
   "id": "33",
   "metadata": {},
   "outputs": [],
   "source": [
    "pp.plot(sc.collapse(direct_beam_function_layers, keep='wavelength'))"
   ]
  },
  {
   "cell_type": "markdown",
   "id": "34",
   "metadata": {},
   "source": [
    "And finally, for completeness, we compare the $I(Q)$ to the theoretical reference inside each layer."
   ]
  },
  {
   "cell_type": "code",
   "execution_count": null,
   "id": "35",
   "metadata": {},
   "outputs": [],
   "source": [
    "layers = sc.collapse(iofq_full_layers, keep='Q')\n",
    "pp.plot(\n",
    "    {**{'reference': Iq_theory}, **layers},\n",
    "    color={\n",
    "        **{'reference': 'darkgrey'},\n",
    "        **{key: f'C{i}' for i, key in enumerate(layers)},\n",
    "    },\n",
    "    norm='log',\n",
    ")"
   ]
  },
  {
   "cell_type": "markdown",
   "id": "36",
   "metadata": {},
   "source": [
    "## Combining multiple runs to boost signal\n",
    "\n",
    "It is common practise to combine the events from multiple runs to improve the statistics on the computed $I(Q)$,\n",
    "and thus obtain a more robust direct beam function.\n",
    "\n",
    "To achieve this, we need to replace the `SampleRun` and `BackgroundRun` file names with parameter series.\n",
    "We then need to supply additional providers which will merge the events from the runs appropriately\n",
    "(note that these providers will merge both the detector and the monitor events).\n",
    "\n",
    "We first define a list of file names for the sample and background runs (two files for each):"
   ]
  },
  {
   "cell_type": "code",
   "execution_count": null,
   "id": "37",
   "metadata": {},
   "outputs": [],
   "source": [
    "sample_runs = [\n",
    "    loki.data.loki_tutorial_sample_run_60250(),\n",
    "    loki.data.loki_tutorial_sample_run_60339(),\n",
    "]\n",
    "background_runs = [\n",
    "    loki.data.loki_tutorial_background_run_60248(),\n",
    "    loki.data.loki_tutorial_background_run_60393(),\n",
    "]"
   ]
  },
  {
   "cell_type": "markdown",
   "id": "38",
   "metadata": {},
   "source": [
    "We modify the workflow, setting multiple background and sample runs:"
   ]
  },
  {
   "cell_type": "code",
   "execution_count": null,
   "id": "39",
   "metadata": {},
   "outputs": [],
   "source": [
    "# Reset workflow\n",
    "workflow[DimsToKeep] = []\n",
    "\n",
    "# Transform base workflow to use multiple sample and background runs\n",
    "workflow = sans.with_background_runs(workflow, runs=background_runs)\n",
    "workflow = sans.with_sample_runs(workflow, runs=sample_runs)"
   ]
  },
  {
   "cell_type": "markdown",
   "id": "40",
   "metadata": {},
   "source": [
    "If we now visualize the workflow,\n",
    "we can see that every step for the `SampleRun` and `BackgroundRun` branches are now replicated (drawn as 3D-looking boxes instead of flat rectangles, set `compact=False` to show flattened version).\n",
    "There is also the new `merge_contributions` step that combines the events from the two runs,\n",
    "just before the normalization."
   ]
  },
  {
   "cell_type": "code",
   "execution_count": null,
   "id": "41",
   "metadata": {},
   "outputs": [],
   "source": [
    "workflow.visualize(BackgroundSubtractedIofQ, compact=True, graph_attr={'rankdir': 'LR'})"
   ]
  },
  {
   "cell_type": "markdown",
   "id": "42",
   "metadata": {},
   "source": [
    "We run the direct beam iterations again and compare with our original results."
   ]
  },
  {
   "cell_type": "code",
   "execution_count": null,
   "id": "43",
   "metadata": {},
   "outputs": [],
   "source": [
    "results = sans.direct_beam(workflow=workflow, I0=I0, niter=6)\n",
    "# Unpack the final result\n",
    "iofq_full_new = results[-1]['iofq_full']\n",
    "iofq_bands_new = results[-1]['iofq_bands']\n",
    "direct_beam_function_new = results[-1]['direct_beam']"
   ]
  },
  {
   "cell_type": "code",
   "execution_count": null,
   "id": "44",
   "metadata": {},
   "outputs": [],
   "source": [
    "pp.plot({'one run': direct_beam_function, 'two runs': direct_beam_function_new})"
   ]
  },
  {
   "cell_type": "code",
   "execution_count": null,
   "id": "45",
   "metadata": {},
   "outputs": [],
   "source": [
    "pp.plot(\n",
    "    {'reference': Iq_theory, 'one run': iofq_full, 'two runs': iofq_full_new},\n",
    "    color={'reference': 'darkgrey', 'one run': 'C0', 'two runs': 'C1'},\n",
    "    norm='log',\n",
    ")"
   ]
  }
 ],
 "metadata": {
  "kernelspec": {
   "display_name": "Python 3 (ipykernel)",
   "language": "python",
   "name": "python3"
  },
  "language_info": {
   "codemirror_mode": {
    "name": "ipython",
    "version": 3
   },
   "file_extension": ".py",
   "mimetype": "text/x-python",
   "name": "python",
   "nbconvert_exporter": "python",
   "pygments_lexer": "ipython3",
   "version": "3.10.14"
  }
 },
 "nbformat": 4,
 "nbformat_minor": 5
}
