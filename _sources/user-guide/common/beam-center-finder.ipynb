{
 "cells": [
  {
   "cell_type": "markdown",
   "id": "0",
   "metadata": {},
   "source": [
    "# Beam center finder\n",
    "\n",
    "In SANS experiments, it is essential to find the center of the scattering pattern in order to allow symmetric summation of the scattering intensity around the beam (i.e. computing a one-dimensional $I(Q)$).\n",
    "As detector panels can move, the center of the beam will not always be located at the same place on the detector panel from one experiment to the next.\n",
    "\n",
    "Here we describe two different algorithms that can be used to determine the position of the beam center:\n",
    "\n",
    "1. Using the center of mass of the pixel counts\n",
    "1. Using an iterative refinement on a computed scattering cross-section to find the center of the scattering pattern"
   ]
  },
  {
   "cell_type": "code",
   "execution_count": null,
   "id": "1",
   "metadata": {
    "tags": []
   },
   "outputs": [],
   "source": [
    "import scipp as sc\n",
    "import scippnexus as snx\n",
    "import plopp as pp\n",
    "from ess import sans\n",
    "from ess import isissans as isis\n",
    "import ess.isissans.data  # noqa: F401\n",
    "from ess.sans.types import *"
   ]
  },
  {
   "cell_type": "markdown",
   "id": "2",
   "metadata": {},
   "source": [
    "## Create and configure the workflow\n",
    "\n",
    "We begin by setting creating a workflow and set some parameters,\n",
    "as well as the name of the data file we wish to use."
   ]
  },
  {
   "cell_type": "code",
   "execution_count": null,
   "id": "3",
   "metadata": {},
   "outputs": [],
   "source": [
    "workflow = isis.sans2d.Sans2dTutorialWorkflow()\n",
    "# For real data use:\n",
    "# workflow = isis.sans2d.Sans2dWorkflow()\n",
    "workflow[Filename[SampleRun]] = isis.data.sans2d_tutorial_sample_run()\n",
    "workflow[isis.sans2d.LowCountThreshold] = sc.scalar(-1, unit=\"counts\")"
   ]
  },
  {
   "cell_type": "markdown",
   "id": "4",
   "metadata": {},
   "source": [
    "### Masking bad pixels\n",
    "\n",
    "We create a quick image of the data (summing along the `tof` dimension) to inspect its contents.\n",
    "We see a diffuse scattering pattern, centered around a dark patch with an arm to the north-east; this is the sample holder.\n",
    "It is clear that the sample and the beam are not in the center of the panel, which is marked by the black cross"
   ]
  },
  {
   "cell_type": "code",
   "execution_count": null,
   "id": "5",
   "metadata": {},
   "outputs": [],
   "source": [
    "workflow[BeamCenter] = sc.vector([0, 0, 0], unit='m')\n",
    "raw = workflow.compute(DetectorData[SampleRun])['spectrum', :61440]\n",
    "\n",
    "p = isis.plot_flat_detector_xy(raw.hist(), norm='log')\n",
    "p.ax.plot(0, 0, '+', color='k', ms=10)\n",
    "p"
   ]
  },
  {
   "cell_type": "markdown",
   "id": "6",
   "metadata": {},
   "source": [
    "The scattering pattern is circularly symmetric around the center of the beam.\n",
    "Because the beam is not in the center of the panel, different regions of the panel are covering different radial ranges.\n",
    "\n",
    "When searching for the center of the beam, it is important to remove any such bias that would skew the computed center position.\n",
    "We basically would like to add a circular mask around the center, to ensure the same radial range is reached in all directions.\n",
    "\n",
    "Unfortunately, we do not know the center, because that is what we are trying to compute.\n",
    "We can however use the fact that the scattering pattern is symmetric,\n",
    "and that the intensity is higher close to the beam while lower towards the edges of the panel.\n",
    "\n",
    "Adding a mask, based on the pixel neutron counts (integrated along the `tof` dimension),\n",
    "will yield a circular mask around the beam center.\n",
    "Because the sample holder is highly absorbent to neutrons, such a mask will also mask out the sample holder,\n",
    "making it a very simple but effective way of masking."
   ]
  },
  {
   "cell_type": "markdown",
   "id": "7",
   "metadata": {},
   "source": [
    "<div class=\"alert alert-info\">\n",
    "\n",
    "*Note*\n",
    "\n",
    "In general, for a fully normalized data reduction, masks based on counts are not recommended\n",
    "as they can remove true regions of zero counts and not just artifacts.\n",
    "They should only be used in controlled cases, where the end result does not require a correctly\n",
    "normalized intensity.\n",
    "\n",
    "</div>"
   ]
  },
  {
   "cell_type": "code",
   "execution_count": null,
   "id": "8",
   "metadata": {},
   "outputs": [],
   "source": [
    "workflow[BeamCenter] = sc.vector(value=[0, 0, 0], unit='m')\n",
    "masked = workflow.compute(MaskedData[SampleRun])['spectrum', :61440].copy()\n",
    "masked.masks['low_counts'] = masked.hist().data < sc.scalar(80.0, unit='counts')\n",
    "\n",
    "p = isis.plot_flat_detector_xy(masked.hist(), norm='log')\n",
    "p.ax.plot(0, 0, '+', color='k', ms=10)\n",
    "p"
   ]
  },
  {
   "cell_type": "markdown",
   "id": "9",
   "metadata": {},
   "source": [
    "## Method 1: center-of-mass calculation\n",
    "\n",
    "The first method we will use to compute the center of the beam is to calculate the center-of-mass of the pixels,\n",
    "using the integrated counts along the time-of-flight dimension as the weights of the pixel positions.\n",
    "\n",
    "We can visualize the pipeline that is used to compute the center-of-mass:"
   ]
  },
  {
   "cell_type": "code",
   "execution_count": null,
   "id": "10",
   "metadata": {},
   "outputs": [],
   "source": [
    "# The center-of-mass approach is based on the MaskedData\n",
    "workflow.visualize(MaskedData[SampleRun])"
   ]
  },
  {
   "cell_type": "markdown",
   "id": "11",
   "metadata": {},
   "source": [
    "We use the workflow to fill in the required arguments and call the function:"
   ]
  },
  {
   "cell_type": "code",
   "execution_count": null,
   "id": "12",
   "metadata": {},
   "outputs": [],
   "source": [
    "com = sans.beam_center_finder.beam_center_from_center_of_mass(workflow)\n",
    "com"
   ]
  },
  {
   "cell_type": "markdown",
   "id": "13",
   "metadata": {},
   "source": [
    "We can now update our previous figure with the new position of the beam center (pink dot),\n",
    "which is clearly in the center of the beam/sample holder."
   ]
  },
  {
   "cell_type": "code",
   "execution_count": null,
   "id": "14",
   "metadata": {},
   "outputs": [],
   "source": [
    "xc = com.fields.x\n",
    "yc = com.fields.y\n",
    "p.ax.plot(xc.value, yc.value, 'o', color='magenta', mec='lightgray', ms=6)\n",
    "p"
   ]
  },
  {
   "cell_type": "markdown",
   "id": "15",
   "metadata": {},
   "source": [
    "## Method 2: computing $I(Q)$ inside 4 quadrants"
   ]
  },
  {
   "cell_type": "markdown",
   "id": "16",
   "metadata": {},
   "source": [
    "The procedure is the following:\n",
    "\n",
    "1. Divide the panel into 4 quadrants\n",
    "1. Compute $I(Q)$ inside each quadrant and compute the residual difference between all 4 quadrants\n",
    "1. Iteratively move the center position and repeat 1. and 2. until all 4 $I(Q)$ curves lie on top of each other\n",
    "\n",
    "For this, we need to set-up a fully-fledged workflow that can compute $I(Q)$,\n",
    "which requires some additional parameters (see the [SANS2D reduction workflow](../isis/sans2d.ipynb) for more details)."
   ]
  },
  {
   "cell_type": "markdown",
   "id": "17",
   "metadata": {},
   "source": [
    "<div class=\"alert alert-info\">\n",
    "\n",
    "*Note*\n",
    "\n",
    "In the full $I(Q)$ reduction, there is a term $D(\\lambda)$ in the normalization called the \"direct beam\" which gives the efficiency of the detectors as a function of wavelength.\n",
    "Because finding the beam center is required to compute the direct beam in the first place,\n",
    "we do not include this term in the computation of $I(Q)$ for finding the beam center.\n",
    "This changes the shape of the $I(Q)$ curve, but since it changes it in the same manner for all $\\phi$ angles,\n",
    "this does not affect the results for finding the beam center.\n",
    "\n",
    "</div>"
   ]
  },
  {
   "cell_type": "code",
   "execution_count": null,
   "id": "18",
   "metadata": {},
   "outputs": [],
   "source": [
    "workflow = isis.sans2d.Sans2dTutorialWorkflow()\n",
    "# For real data use:\n",
    "# workflow = isis.sans2d.Sans2dWorkflow()\n",
    "workflow.insert(isis.io.transmission_from_sample_run)"
   ]
  },
  {
   "cell_type": "markdown",
   "id": "19",
   "metadata": {},
   "source": [
    "We set the missing input parameters:"
   ]
  },
  {
   "cell_type": "code",
   "execution_count": null,
   "id": "20",
   "metadata": {},
   "outputs": [],
   "source": [
    "workflow[WavelengthBins] = sc.linspace(\n",
    "    'wavelength', start=2.0, stop=16.0, num=141, unit='angstrom'\n",
    ")\n",
    "workflow[Filename[EmptyBeamRun]] = isis.data.sans2d_tutorial_empty_beam_run()\n",
    "\n",
    "workflow[NeXusMonitorName[Incident]] = 'monitor2'\n",
    "workflow[NeXusMonitorName[Transmission]] = 'monitor4'\n",
    "\n",
    "workflow[isis.SampleOffset] = sc.vector([0.0, 0.0, 0.053], unit='m')\n",
    "workflow[isis.MonitorOffset[Transmission]] = sc.vector([0.0, 0.0, -6.719], unit='m')\n",
    "\n",
    "workflow[CorrectForGravity] = True\n",
    "workflow[UncertaintyBroadcastMode] = UncertaintyBroadcastMode.upper_bound\n",
    "workflow[DirectBeam] = None\n",
    "workflow[isis.sans2d.LowCountThreshold] = sc.scalar(-1, unit=\"counts\")"
   ]
  },
  {
   "cell_type": "markdown",
   "id": "21",
   "metadata": {},
   "source": [
    "Finally, we set the data to be used, including overriding with the new mask defined earlier:"
   ]
  },
  {
   "cell_type": "code",
   "execution_count": null,
   "id": "22",
   "metadata": {},
   "outputs": [],
   "source": [
    "workflow[Filename[SampleRun]] = isis.data.sans2d_tutorial_sample_run()\n",
    "workflow[BeamCenter] = sc.vector([0, 0, 0], unit='m')\n",
    "detector = workflow.compute(NeXusComponent[snx.NXdetector, SampleRun]).copy()\n",
    "detector['data'] = detector['data']['spectrum', :61440].assign_masks(masked.masks)\n",
    "workflow[NeXusComponent[snx.NXdetector, SampleRun]] = detector"
   ]
  },
  {
   "cell_type": "markdown",
   "id": "23",
   "metadata": {},
   "source": [
    "The division of the panel pixels into 4 quadrants,\n",
    "as well as the iterative procedure to maximize the overlap between the computed intensities,\n",
    "is all performed internally by the `beam_center_from_iofq` provider (see further details below).\n",
    "\n",
    "We can thus compute the beam center in the same way as before:"
   ]
  },
  {
   "cell_type": "code",
   "execution_count": null,
   "id": "24",
   "metadata": {},
   "outputs": [],
   "source": [
    "q_bins = sc.linspace('Q', 0.02, 0.25, 71, unit='1/angstrom')\n",
    "workflow[BeamCenter] = sc.vector([0, 0, 0], unit='m')\n",
    "iofq_center = sans.beam_center_finder.beam_center_from_iofq(\n",
    "    workflow=workflow, q_bins=q_bins\n",
    ")\n",
    "iofq_center"
   ]
  },
  {
   "cell_type": "markdown",
   "id": "25",
   "metadata": {},
   "source": [
    "We, once again, show the location of the computed center (pink dot) on the detector panel:"
   ]
  },
  {
   "cell_type": "code",
   "execution_count": null,
   "id": "26",
   "metadata": {},
   "outputs": [],
   "source": [
    "p = isis.plot_flat_detector_xy(masked.hist(), norm='log')\n",
    "p.ax.plot(0, 0, '+', color='k', ms=10)\n",
    "p.ax.plot(\n",
    "    iofq_center.value[0],\n",
    "    iofq_center.value[1],\n",
    "    'o',\n",
    "    color='magenta',\n",
    "    mec='lightgray',\n",
    "    ms=6,\n",
    ")\n",
    "p"
   ]
  },
  {
   "cell_type": "markdown",
   "id": "27",
   "metadata": {},
   "source": [
    "Finally, we can compare the values from the two methods, which should be almost identical:"
   ]
  },
  {
   "cell_type": "code",
   "execution_count": null,
   "id": "28",
   "metadata": {},
   "outputs": [],
   "source": [
    "print('Center-of-mass:', com.value, '\\nI(Q):          ', iofq_center.value)"
   ]
  },
  {
   "cell_type": "markdown",
   "id": "29",
   "metadata": {},
   "source": [
    "## Detailed description of method 2\n",
    "\n",
    "In the remainder of this notebook, we will describe in more detail what is done internally for method 2 in the `essans` module.\n",
    "\n",
    "The user does not need to understand all the details of the implementation, the information is kept here for completeness.\n",
    "\n",
    "### Step 1: divide the panel into 4 quadrants\n",
    "\n",
    "We divide the panel into 4 quadrants.\n",
    "Panels a very commonly rectangular,\n",
    "and the best way to ensure that each quadrant has approximately the same number of pixels is to make a vertical and a horizontal cut:"
   ]
  },
  {
   "cell_type": "code",
   "execution_count": null,
   "id": "30",
   "metadata": {
    "tags": []
   },
   "outputs": [],
   "source": [
    "p = isis.plot_flat_detector_xy(masked.hist(), norm='log')\n",
    "p.ax.axvline(0, color='cyan')\n",
    "p.ax.axhline(0, color='cyan')\n",
    "p.ax.plot(0, 0, '+', color='k', ms=10)\n",
    "dx = 0.25\n",
    "style = dict(ha='center', va='center', color='w')  # noqa: C408\n",
    "p.ax.text(dx, dx, 'North-East', **style)\n",
    "p.ax.text(-dx, dx, 'North-West', **style)\n",
    "p.ax.text(dx, -dx, 'South-East', **style)\n",
    "p.ax.text(-dx, -dx, 'South-West', **style)\n",
    "p"
   ]
  },
  {
   "cell_type": "markdown",
   "id": "31",
   "metadata": {},
   "source": [
    "### Step 2: compute $I(Q)$ inside each quadrant\n",
    "\n",
    "We define several quantities which are required to compute $I(Q)$:"
   ]
  },
  {
   "cell_type": "code",
   "execution_count": null,
   "id": "32",
   "metadata": {},
   "outputs": [],
   "source": [
    "workflow = workflow.copy()\n",
    "workflow[QBins] = q_bins\n",
    "workflow[ReturnEvents] = False\n",
    "workflow[DimsToKeep] = ()\n",
    "workflow[WavelengthMask] = None\n",
    "workflow[WavelengthBands] = None\n",
    "kwargs = dict(  # noqa: C408\n",
    "    workflow=workflow,\n",
    "    detector=detector['data'],\n",
    "    norm=workflow.compute(CleanDirectBeam),\n",
    ")"
   ]
  },
  {
   "cell_type": "markdown",
   "id": "33",
   "metadata": {},
   "source": [
    "We now use a function internal to the `esssans` module compute $I(Q)$ inside each quadrant:"
   ]
  },
  {
   "cell_type": "code",
   "execution_count": null,
   "id": "34",
   "metadata": {},
   "outputs": [],
   "source": [
    "from ess.sans.beam_center_finder import _iofq_in_quadrants\n",
    "\n",
    "results = _iofq_in_quadrants(\n",
    "    xy=[0, 0],\n",
    "    **kwargs,\n",
    ")"
   ]
  },
  {
   "cell_type": "markdown",
   "id": "35",
   "metadata": {},
   "source": [
    "We can plot on the same figure all 4 $I(Q)$ curves for each quadrant."
   ]
  },
  {
   "cell_type": "code",
   "execution_count": null,
   "id": "36",
   "metadata": {
    "tags": []
   },
   "outputs": [],
   "source": [
    "pp.plot(results, norm='log')"
   ]
  },
  {
   "cell_type": "markdown",
   "id": "37",
   "metadata": {},
   "source": [
    "As we can see, the overlap between the curves from the 4 quadrants is mediocre.\n",
    "We will now use an iterative procedure to improve our initial guess, until a good overlap between the curves is found.\n",
    "\n",
    "### Step 3: iteratively maximize the overlap between the I(Q) curves\n",
    "\n",
    "We first define a cost function, which gives us an idea of how good the overlap is:\n",
    "\n",
    "$$\n",
    "\\text{cost} = \\frac{\\sum_{Q}\\sum_{i=1}^{i=4} \\overline{I}(Q)\\left(I(Q)_{i} - \\overline{I}(Q)\\right)^2}{\\sum_{Q}\\overline{I}(Q)} ~,\n",
    "$$\n",
    "\n",
    "where $\\overline{I}(Q)$ is the mean intensity of the 4 quadrants (represented by $i$) as a function of $Q$.\n",
    "This is basically a weighted mean of the square of the differences between the $I(Q)$ curves in the 4 quadrants with respect to $\\overline{I}(Q)$,\n",
    "and where the weights are $\\overline{I}(Q)$.\n",
    "\n",
    "Next, we iteratively minimize the computed cost\n",
    "(this is using Scipy's `optimize.minimize` utility internally;\n",
    "see [here](https://docs.scipy.org/doc/scipy/reference/generated/scipy.optimize.minimize.html) for more details)."
   ]
  },
  {
   "cell_type": "code",
   "execution_count": null,
   "id": "38",
   "metadata": {
    "tags": []
   },
   "outputs": [],
   "source": [
    "from scipy.optimize import minimize\n",
    "\n",
    "# The minimizer works best if given bounds, which are the bounds of our detector panel\n",
    "x = masked.coords['position'].fields.x\n",
    "y = masked.coords['position'].fields.y\n",
    "bounds = [(x.min().value, x.max().value), (y.min().value, y.max().value)]\n",
    "\n",
    "res = minimize(\n",
    "    sans.beam_center_finder._cost,\n",
    "    x0=[0, 0],\n",
    "    args=tuple(kwargs.values()),\n",
    "    bounds=bounds,\n",
    "    method='Powell',\n",
    "    tol=0.01,\n",
    ")\n",
    "\n",
    "res"
   ]
  },
  {
   "cell_type": "markdown",
   "id": "39",
   "metadata": {},
   "source": [
    "Once the iterations completed, the returned object contains the best estimate for the beam center:"
   ]
  },
  {
   "cell_type": "code",
   "execution_count": null,
   "id": "40",
   "metadata": {
    "tags": []
   },
   "outputs": [],
   "source": [
    "res.x"
   ]
  },
  {
   "cell_type": "markdown",
   "id": "41",
   "metadata": {},
   "source": [
    "We can now feed this value again into our `iofq_in_quadrants` function, to inspect the $Q$ intensity in all 4 quadrants:"
   ]
  },
  {
   "cell_type": "code",
   "execution_count": null,
   "id": "42",
   "metadata": {
    "tags": []
   },
   "outputs": [],
   "source": [
    "results = _iofq_in_quadrants(\n",
    "    xy=[res.x[0], res.x[1]],\n",
    "    **kwargs,\n",
    ")\n",
    "\n",
    "pp.plot(results, norm='log')"
   ]
  },
  {
   "cell_type": "markdown",
   "id": "43",
   "metadata": {},
   "source": [
    "The overlap between the curves is excellent, allowing us to safely perform an azimuthal summation of the counts around the beam center."
   ]
  },
  {
   "cell_type": "markdown",
   "id": "44",
   "metadata": {},
   "source": [
    "<div class=\"alert alert-info\">\n",
    "\n",
    "*Note*\n",
    "\n",
    "The result obtained just above is slightly different from the one obtained earlier [using the workflow](#Method-2:-computing-I(Q)-inside-4-quadrants).\n",
    "\n",
    "This is because in our example, we used `x=0, y=0` as our initial guess,\n",
    "while the workflow uses an additional optimization where it first computes a better initial guess using method 1 (center-of-mass).\n",
    "This allows it to converge faster, with fewer iterations, and produce a slightly more accurate result.\n",
    "\n",
    "</div>"
   ]
  }
 ],
 "metadata": {
  "kernelspec": {
   "display_name": "Python 3 (ipykernel)",
   "language": "python",
   "name": "python3"
  },
  "language_info": {
   "codemirror_mode": {
    "name": "ipython",
    "version": 3
   },
   "file_extension": ".py",
   "mimetype": "text/x-python",
   "name": "python",
   "nbconvert_exporter": "python",
   "pygments_lexer": "ipython3",
   "version": "3.10.14"
  }
 },
 "nbformat": 4,
 "nbformat_minor": 5
}
